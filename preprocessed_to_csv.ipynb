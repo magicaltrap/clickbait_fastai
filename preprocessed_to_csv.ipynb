{
  "nbformat": 4,
  "nbformat_minor": 0,
  "metadata": {
    "colab": {
      "name": "preprocessed_to_csv",
      "version": "0.3.2",
      "provenance": [],
      "collapsed_sections": [],
      "include_colab_link": true
    },
    "kernelspec": {
      "name": "python3",
      "display_name": "Python 3"
    }
  },
  "cells": [
    {
      "cell_type": "markdown",
      "metadata": {
        "id": "view-in-github",
        "colab_type": "text"
      },
      "source": [
        "<a href=\"https://colab.research.google.com/github/magicaltrap/clickbait_fastai/blob/master/preprocessed_to_csv.ipynb\" target=\"_parent\"><img src=\"https://colab.research.google.com/assets/colab-badge.svg\" alt=\"Open In Colab\"/></a>"
      ]
    },
    {
      "cell_type": "code",
      "metadata": {
        "id": "mM9L5mel7wjz",
        "colab_type": "code",
        "outputId": "4a38650a-e52b-4ed8-9293-3824717e0098",
        "colab": {
          "base_uri": "https://localhost:8080/",
          "height": 35
        }
      },
      "source": [
        "from google.colab import drive\n",
        "drive.mount('/content/gdrive', force_remount=True)\n",
        "root_dir = \"/content/gdrive/My Drive/\"\n",
        "path_clickbait = \"/content/gdrive/My Drive/data/clickbait/\""
      ],
      "execution_count": 0,
      "outputs": [
        {
          "output_type": "stream",
          "text": [
            "Mounted at /content/gdrive\n"
          ],
          "name": "stdout"
        }
      ]
    },
    {
      "cell_type": "code",
      "metadata": {
        "id": "i661042_7_VZ",
        "colab_type": "code",
        "colab": {}
      },
      "source": [
        "import json\n",
        "import pandas as pd"
      ],
      "execution_count": 0,
      "outputs": []
    },
    {
      "cell_type": "markdown",
      "metadata": {
        "id": "AbQf7cEq8dmY",
        "colab_type": "text"
      },
      "source": [
        "# Open labeled clickbait dataset "
      ]
    },
    {
      "cell_type": "markdown",
      "metadata": {
        "id": "mnaEPrdi-oph",
        "colab_type": "text"
      },
      "source": [
        "## Save \"id\" and \"postText\" in a dictionary"
      ]
    },
    {
      "cell_type": "code",
      "metadata": {
        "id": "A93Foj0T8bwD",
        "colab_type": "code",
        "colab": {}
      },
      "source": [
        "id_features = {}\n",
        "with open(path_clickbait + 'data/instances.jsonl', 'r') as reader:\n",
        "    for line in reader:\n",
        "        item = json.loads(line)\n",
        "        \n",
        "        item_id = item[\"id\"]  #ID of example\n",
        "        postText = item[\"postText\"][0] #postText = Twitter post\n",
        "        \n",
        "        id_features[item_id] = postText #save as {id: postText}"
      ],
      "execution_count": 0,
      "outputs": []
    },
    {
      "cell_type": "code",
      "metadata": {
        "id": "-ZP2cYxd9knW",
        "colab_type": "code",
        "outputId": "c807670b-ecad-43df-d35f-be890e475c1e",
        "colab": {
          "base_uri": "https://localhost:8080/",
          "height": 35
        }
      },
      "source": [
        "for item in id_features.items():\n",
        "  print(item)\n",
        "  break"
      ],
      "execution_count": 0,
      "outputs": [
        {
          "output_type": "stream",
          "text": [
            "('858462320779026433', 'UK’s response to modern slavery leaving victims destitute while abusers go free')\n"
          ],
          "name": "stdout"
        }
      ]
    },
    {
      "cell_type": "code",
      "metadata": {
        "id": "eUP-LwGb9phY",
        "colab_type": "code",
        "outputId": "fc8bc427-ef9b-4b47-d2a4-757b442cdf82",
        "colab": {
          "base_uri": "https://localhost:8080/",
          "height": 35
        }
      },
      "source": [
        "len(id_features)"
      ],
      "execution_count": 0,
      "outputs": [
        {
          "output_type": "execute_result",
          "data": {
            "text/plain": [
              "19538"
            ]
          },
          "metadata": {
            "tags": []
          },
          "execution_count": 9
        }
      ]
    },
    {
      "cell_type": "markdown",
      "metadata": {
        "id": "MtoVQN5M-wmL",
        "colab_type": "text"
      },
      "source": [
        "## Save \"id\" and \"TruthClass\" (label) in a dictionary"
      ]
    },
    {
      "cell_type": "code",
      "metadata": {
        "id": "zDqQAG2--j94",
        "colab_type": "code",
        "colab": {}
      },
      "source": [
        "id_labels = {}\n",
        "with open(path_clickbait + 'data/truth.jsonl', 'r') as reader:\n",
        "    for line in reader:\n",
        "        item = json.loads(line)\n",
        "        \n",
        "        item_id = item[\"id\"]\n",
        "        truthClass = item[\"truthClass\"]\n",
        "        \n",
        "        id_labels[item_id] = truthClass #save as {id: truthCLass}"
      ],
      "execution_count": 0,
      "outputs": []
    },
    {
      "cell_type": "code",
      "metadata": {
        "id": "XltyLV5P_F0G",
        "colab_type": "code",
        "outputId": "ffdd6453-2f67-4c7e-d8f7-52c32992a758",
        "colab": {
          "base_uri": "https://localhost:8080/",
          "height": 35
        }
      },
      "source": [
        "for item in id_labels.items():\n",
        "  print(item)\n",
        "  break"
      ],
      "execution_count": 0,
      "outputs": [
        {
          "output_type": "stream",
          "text": [
            "('858464162594172928', 'clickbait')\n"
          ],
          "name": "stdout"
        }
      ]
    },
    {
      "cell_type": "code",
      "metadata": {
        "id": "s8jO_sJr_K-g",
        "colab_type": "code",
        "outputId": "0cb31ef8-dffc-4fcc-efab-6ebde1aff9b6",
        "colab": {
          "base_uri": "https://localhost:8080/",
          "height": 35
        }
      },
      "source": [
        "len(id_labels)"
      ],
      "execution_count": 0,
      "outputs": [
        {
          "output_type": "execute_result",
          "data": {
            "text/plain": [
              "19538"
            ]
          },
          "metadata": {
            "tags": []
          },
          "execution_count": 12
        }
      ]
    },
    {
      "cell_type": "markdown",
      "metadata": {
        "id": "SZ3TiDQS_jJO",
        "colab_type": "text"
      },
      "source": [
        "## Save both dictionaries elements in a list to save it later as a .csv file"
      ]
    },
    {
      "cell_type": "code",
      "metadata": {
        "id": "f7ANEQ_Z_h4m",
        "colab_type": "code",
        "colab": {}
      },
      "source": [
        "labels_text = [[\"label\", \"postText\"]]\n",
        "\n",
        "for key in id_labels:\n",
        "    tmp = [id_labels[key], id_features[key]] #label and postText in one list element\n",
        "    labels_text.append(tmp)"
      ],
      "execution_count": 0,
      "outputs": []
    },
    {
      "cell_type": "code",
      "metadata": {
        "id": "K2lOceMF_Ri_",
        "colab_type": "code",
        "outputId": "eaf19efb-fca7-48b8-a4cf-899c07505d11",
        "colab": {
          "base_uri": "https://localhost:8080/",
          "height": 35
        }
      },
      "source": [
        "len(labels_text)"
      ],
      "execution_count": 0,
      "outputs": [
        {
          "output_type": "execute_result",
          "data": {
            "text/plain": [
              "19539"
            ]
          },
          "metadata": {
            "tags": []
          },
          "execution_count": 14
        }
      ]
    },
    {
      "cell_type": "code",
      "metadata": {
        "id": "bU-isZE1AWkY",
        "colab_type": "code",
        "outputId": "91c360a6-d5b0-4e47-a8a3-8ff22ce3f932",
        "colab": {
          "base_uri": "https://localhost:8080/",
          "height": 145
        }
      },
      "source": [
        "labels_text[:5]"
      ],
      "execution_count": 0,
      "outputs": [
        {
          "output_type": "execute_result",
          "data": {
            "text/plain": [
              "[['label', 'postText'],\n",
              " ['clickbait', \"Facts that will be truly upsetting to '90s girls\"],\n",
              " ['no-clickbait',\n",
              "  'UK’s response to modern slavery leaving victims destitute while abusers go free'],\n",
              " ['no-clickbait', \"Inside North Korea's secret prisons\"],\n",
              " ['no-clickbait',\n",
              "  \"Trump has flip-flopped. But his supporters aren't upset — or haven't noticed.\"]]"
            ]
          },
          "metadata": {
            "tags": []
          },
          "execution_count": 15
        }
      ]
    },
    {
      "cell_type": "code",
      "metadata": {
        "id": "WkfFTPQuAZP7",
        "colab_type": "code",
        "colab": {}
      },
      "source": [
        "import csv\n",
        "\n",
        "with open(path_clickbait + 'data/labels_text.csv', 'w', newline='', encoding='utf-8') as writeFile:\n",
        "    writer = csv.writer(writeFile)\n",
        "    writer.writerows(labels_text)"
      ],
      "execution_count": 0,
      "outputs": []
    },
    {
      "cell_type": "markdown",
      "metadata": {
        "id": "W2YPrIsZBG_r",
        "colab_type": "text"
      },
      "source": [
        "## Load it as DataFrame and check if there are empty postText entries (isnull())"
      ]
    },
    {
      "cell_type": "code",
      "metadata": {
        "id": "Toqfz6dfBEd7",
        "colab_type": "code",
        "outputId": "093b93e6-5014-4190-f0d3-9a2458db596f",
        "colab": {
          "base_uri": "https://localhost:8080/",
          "height": 198
        }
      },
      "source": [
        "df = pd.read_csv(path_clickbait + 'data/labels_text.csv')\n",
        "df[:5]"
      ],
      "execution_count": 0,
      "outputs": [
        {
          "output_type": "execute_result",
          "data": {
            "text/html": [
              "<div>\n",
              "<style scoped>\n",
              "    .dataframe tbody tr th:only-of-type {\n",
              "        vertical-align: middle;\n",
              "    }\n",
              "\n",
              "    .dataframe tbody tr th {\n",
              "        vertical-align: top;\n",
              "    }\n",
              "\n",
              "    .dataframe thead th {\n",
              "        text-align: right;\n",
              "    }\n",
              "</style>\n",
              "<table border=\"1\" class=\"dataframe\">\n",
              "  <thead>\n",
              "    <tr style=\"text-align: right;\">\n",
              "      <th></th>\n",
              "      <th>label</th>\n",
              "      <th>postText</th>\n",
              "    </tr>\n",
              "  </thead>\n",
              "  <tbody>\n",
              "    <tr>\n",
              "      <th>0</th>\n",
              "      <td>clickbait</td>\n",
              "      <td>Facts that will be truly upsetting to '90s girls</td>\n",
              "    </tr>\n",
              "    <tr>\n",
              "      <th>1</th>\n",
              "      <td>no-clickbait</td>\n",
              "      <td>UK’s response to modern slavery leaving victim...</td>\n",
              "    </tr>\n",
              "    <tr>\n",
              "      <th>2</th>\n",
              "      <td>no-clickbait</td>\n",
              "      <td>Inside North Korea's secret prisons</td>\n",
              "    </tr>\n",
              "    <tr>\n",
              "      <th>3</th>\n",
              "      <td>no-clickbait</td>\n",
              "      <td>Trump has flip-flopped. But his supporters are...</td>\n",
              "    </tr>\n",
              "    <tr>\n",
              "      <th>4</th>\n",
              "      <td>no-clickbait</td>\n",
              "      <td>Trump now agrees with the majority of American...</td>\n",
              "    </tr>\n",
              "  </tbody>\n",
              "</table>\n",
              "</div>"
            ],
            "text/plain": [
              "          label                                           postText\n",
              "0     clickbait   Facts that will be truly upsetting to '90s girls\n",
              "1  no-clickbait  UK’s response to modern slavery leaving victim...\n",
              "2  no-clickbait                Inside North Korea's secret prisons\n",
              "3  no-clickbait  Trump has flip-flopped. But his supporters are...\n",
              "4  no-clickbait  Trump now agrees with the majority of American..."
            ]
          },
          "metadata": {
            "tags": []
          },
          "execution_count": 20
        }
      ]
    },
    {
      "cell_type": "code",
      "metadata": {
        "id": "IIcjwIW8Bxsj",
        "colab_type": "code",
        "outputId": "8101674c-270e-4321-f006-7b89dbc93bbe",
        "colab": {
          "base_uri": "https://localhost:8080/",
          "height": 35
        }
      },
      "source": [
        "df.isnull().any().any()"
      ],
      "execution_count": 0,
      "outputs": [
        {
          "output_type": "execute_result",
          "data": {
            "text/plain": [
              "True"
            ]
          },
          "metadata": {
            "tags": []
          },
          "execution_count": 18
        }
      ]
    },
    {
      "cell_type": "code",
      "metadata": {
        "id": "i3iPC0cUB6cy",
        "colab_type": "code",
        "outputId": "d8cca8c2-e33d-4b92-8924-5e9f0e86724e",
        "colab": {
          "base_uri": "https://localhost:8080/",
          "height": 72
        }
      },
      "source": [
        "df.isnull().any()"
      ],
      "execution_count": 0,
      "outputs": [
        {
          "output_type": "execute_result",
          "data": {
            "text/plain": [
              "label       False\n",
              "postText     True\n",
              "dtype: bool"
            ]
          },
          "metadata": {
            "tags": []
          },
          "execution_count": 19
        }
      ]
    },
    {
      "cell_type": "code",
      "metadata": {
        "id": "Z6FxdGXWB9E5",
        "colab_type": "code",
        "outputId": "9baacb72-8d5b-4d95-8456-19f04666ac58",
        "colab": {
          "base_uri": "https://localhost:8080/",
          "height": 216
        }
      },
      "source": [
        "null_rows = df[df[\"postText\"].isnull()]\n",
        "print(len(null_rows))\n",
        "null_rows[:5]"
      ],
      "execution_count": 0,
      "outputs": [
        {
          "output_type": "stream",
          "text": [
            "54\n"
          ],
          "name": "stdout"
        },
        {
          "output_type": "execute_result",
          "data": {
            "text/html": [
              "<div>\n",
              "<style scoped>\n",
              "    .dataframe tbody tr th:only-of-type {\n",
              "        vertical-align: middle;\n",
              "    }\n",
              "\n",
              "    .dataframe tbody tr th {\n",
              "        vertical-align: top;\n",
              "    }\n",
              "\n",
              "    .dataframe thead th {\n",
              "        text-align: right;\n",
              "    }\n",
              "</style>\n",
              "<table border=\"1\" class=\"dataframe\">\n",
              "  <thead>\n",
              "    <tr style=\"text-align: right;\">\n",
              "      <th></th>\n",
              "      <th>label</th>\n",
              "      <th>postText</th>\n",
              "    </tr>\n",
              "  </thead>\n",
              "  <tbody>\n",
              "    <tr>\n",
              "      <th>880</th>\n",
              "      <td>clickbait</td>\n",
              "      <td>NaN</td>\n",
              "    </tr>\n",
              "    <tr>\n",
              "      <th>1574</th>\n",
              "      <td>clickbait</td>\n",
              "      <td>NaN</td>\n",
              "    </tr>\n",
              "    <tr>\n",
              "      <th>2384</th>\n",
              "      <td>no-clickbait</td>\n",
              "      <td>NaN</td>\n",
              "    </tr>\n",
              "    <tr>\n",
              "      <th>2480</th>\n",
              "      <td>no-clickbait</td>\n",
              "      <td>NaN</td>\n",
              "    </tr>\n",
              "    <tr>\n",
              "      <th>2483</th>\n",
              "      <td>clickbait</td>\n",
              "      <td>NaN</td>\n",
              "    </tr>\n",
              "  </tbody>\n",
              "</table>\n",
              "</div>"
            ],
            "text/plain": [
              "             label postText\n",
              "880      clickbait      NaN\n",
              "1574     clickbait      NaN\n",
              "2384  no-clickbait      NaN\n",
              "2480  no-clickbait      NaN\n",
              "2483     clickbait      NaN"
            ]
          },
          "metadata": {
            "tags": []
          },
          "execution_count": 23
        }
      ]
    },
    {
      "cell_type": "markdown",
      "metadata": {
        "id": "TV2mYW8KCKMX",
        "colab_type": "text"
      },
      "source": [
        "**remove the rows with NaN postText entry**"
      ]
    },
    {
      "cell_type": "code",
      "metadata": {
        "id": "CsLp6BnmCF8l",
        "colab_type": "code",
        "outputId": "48efbb84-e088-4a16-d756-b199fed32cf9",
        "colab": {
          "base_uri": "https://localhost:8080/",
          "height": 108
        }
      },
      "source": [
        "null_rows_indices = null_rows.index.values\n",
        "null_rows_indices"
      ],
      "execution_count": 0,
      "outputs": [
        {
          "output_type": "execute_result",
          "data": {
            "text/plain": [
              "array([ 880, 1574, 2384, 2480, 2483, 2509, 2529, 2546, 2567, 2646, 2681,\n",
              "       2742, 2749, 2773, 2795, 2828, 2896, 2907, 2911, 2956, 2958, 3071,\n",
              "       3082, 3146, 3177, 3179, 3188, 3257, 3266, 3289, 3315, 3332, 3340,\n",
              "       3395, 3428, 3434, 3441, 3464, 3523, 3529, 3560, 3572, 3577, 3579,\n",
              "       3591, 3599, 3602, 3662, 3701, 3736, 3772, 3798, 4557, 8875])"
            ]
          },
          "metadata": {
            "tags": []
          },
          "execution_count": 24
        }
      ]
    },
    {
      "cell_type": "code",
      "metadata": {
        "id": "i23Ted8JCjxe",
        "colab_type": "code",
        "outputId": "39c775bd-313d-4b2d-bebf-1c917916d752",
        "colab": {
          "base_uri": "https://localhost:8080/",
          "height": 35
        }
      },
      "source": [
        "modified_df = df.drop(list(null_rows_indices))\n",
        "len(modified_df)"
      ],
      "execution_count": 0,
      "outputs": [
        {
          "output_type": "execute_result",
          "data": {
            "text/plain": [
              "19484"
            ]
          },
          "metadata": {
            "tags": []
          },
          "execution_count": 25
        }
      ]
    },
    {
      "cell_type": "code",
      "metadata": {
        "id": "zL5ydrRNC4ht",
        "colab_type": "code",
        "outputId": "2b220272-a6d7-4cb0-9f84-f313d291317d",
        "colab": {
          "base_uri": "https://localhost:8080/",
          "height": 35
        }
      },
      "source": [
        "modified_df.isnull().any().any()"
      ],
      "execution_count": 0,
      "outputs": [
        {
          "output_type": "execute_result",
          "data": {
            "text/plain": [
              "False"
            ]
          },
          "metadata": {
            "tags": []
          },
          "execution_count": 26
        }
      ]
    },
    {
      "cell_type": "code",
      "metadata": {
        "id": "902tW-y-C9wQ",
        "colab_type": "code",
        "colab": {}
      },
      "source": [
        "modified_df.to_csv(path_clickbait + \"data/modified_labels_text.csv\", index=False)"
      ],
      "execution_count": 0,
      "outputs": []
    },
    {
      "cell_type": "markdown",
      "metadata": {
        "id": "zHLTcfCrDiHX",
        "colab_type": "text"
      },
      "source": [
        "# Open unlabeled clickbait dataset"
      ]
    },
    {
      "cell_type": "markdown",
      "metadata": {
        "id": "2pMvcHCKEA6a",
        "colab_type": "text"
      },
      "source": [
        "## Save \"id\" and \"postText in a dictionary\""
      ]
    },
    {
      "cell_type": "code",
      "metadata": {
        "id": "zaew1XZVDYdl",
        "colab_type": "code",
        "colab": {}
      },
      "source": [
        "id_features = {}\n",
        "with open(path_clickbait + 'data/instances_unlabeled.jsonl', 'r') as reader:\n",
        "    for line in reader:\n",
        "        item = json.loads(line)\n",
        "        \n",
        "        item_id = item[\"id\"]  #ID of example\n",
        "        postText = item[\"postText\"][0] #postText = Twitter post\n",
        "        \n",
        "        id_features[item_id] = postText #save as {id: postText}"
      ],
      "execution_count": 0,
      "outputs": []
    },
    {
      "cell_type": "code",
      "metadata": {
        "id": "WLH6uAmXEJuO",
        "colab_type": "code",
        "outputId": "568e3154-cca8-44c3-91cd-15d212c88453",
        "colab": {
          "base_uri": "https://localhost:8080/",
          "height": 35
        }
      },
      "source": [
        "for item in id_features.items():\n",
        "  print(item)\n",
        "  break"
      ],
      "execution_count": 0,
      "outputs": [
        {
          "output_type": "stream",
          "text": [
            "('799360299060989952', 'Are high-end, big-budget films the future of fashion advertising?')\n"
          ],
          "name": "stdout"
        }
      ]
    },
    {
      "cell_type": "markdown",
      "metadata": {
        "id": "bm7t3xEOESTX",
        "colab_type": "text"
      },
      "source": [
        "**the unlabeled dataset has 80000 examples (4x time more than the labeled one)**"
      ]
    },
    {
      "cell_type": "code",
      "metadata": {
        "id": "0b6ouOmfEM-Z",
        "colab_type": "code",
        "outputId": "b603d5dd-74ae-4d60-9419-c722a57e5eff",
        "colab": {
          "base_uri": "https://localhost:8080/",
          "height": 35
        }
      },
      "source": [
        "len(id_features)"
      ],
      "execution_count": 0,
      "outputs": [
        {
          "output_type": "execute_result",
          "data": {
            "text/plain": [
              "80013"
            ]
          },
          "metadata": {
            "tags": []
          },
          "execution_count": 31
        }
      ]
    },
    {
      "cell_type": "code",
      "metadata": {
        "id": "lNgNrMtJEOsG",
        "colab_type": "code",
        "colab": {}
      },
      "source": [
        "labels_text_unlabeled = [[\"label\", \"postText\"]]\n",
        "\n",
        "for key in id_features:\n",
        "    tmp = [\"unlabeled\", id_features[key]] #\"unlabeled\" and postText\n",
        "    labels_text_unlabeled.append(tmp)"
      ],
      "execution_count": 0,
      "outputs": []
    },
    {
      "cell_type": "code",
      "metadata": {
        "id": "L-0qkTUxEt_P",
        "colab_type": "code",
        "outputId": "313a0b76-9700-49fd-c756-916e1cec0695",
        "colab": {
          "base_uri": "https://localhost:8080/",
          "height": 145
        }
      },
      "source": [
        "labels_text_unlabeled[:5]"
      ],
      "execution_count": 0,
      "outputs": [
        {
          "output_type": "execute_result",
          "data": {
            "text/plain": [
              "[['label', 'postText'],\n",
              " ['unlabeled',\n",
              "  'Are high-end, big-budget films the future of fashion advertising?'],\n",
              " ['unlabeled', 'India has more than its cash crisis to worry about'],\n",
              " ['unlabeled',\n",
              "  \"12 years after her murder, DNA from teen victim's fingernails leads to suspect\"],\n",
              " ['unlabeled', 'Hey, @ArvindKejriwal, you did it - New #Delhi is number 1.']]"
            ]
          },
          "metadata": {
            "tags": []
          },
          "execution_count": 33
        }
      ]
    },
    {
      "cell_type": "code",
      "metadata": {
        "id": "H1HfTvn8Ewgr",
        "colab_type": "code",
        "outputId": "4b0bc7f0-c1a3-4429-d8f3-e1ba4e2e997d",
        "colab": {
          "base_uri": "https://localhost:8080/",
          "height": 35
        }
      },
      "source": [
        "len(labels_text_unlabeled)"
      ],
      "execution_count": 0,
      "outputs": [
        {
          "output_type": "execute_result",
          "data": {
            "text/plain": [
              "80014"
            ]
          },
          "metadata": {
            "tags": []
          },
          "execution_count": 34
        }
      ]
    },
    {
      "cell_type": "markdown",
      "metadata": {
        "id": "vh2vIsj_E7FZ",
        "colab_type": "text"
      },
      "source": [
        "## Save it as .csv file"
      ]
    },
    {
      "cell_type": "code",
      "metadata": {
        "id": "SVrXm41pEzgr",
        "colab_type": "code",
        "colab": {}
      },
      "source": [
        "with open(path_clickbait + 'data/unlabeled_text.csv', 'w', newline='', encoding='utf-8') as writeFile:\n",
        "    writer = csv.writer(writeFile)\n",
        "    writer.writerows(labels_text_unlabeled)"
      ],
      "execution_count": 0,
      "outputs": []
    },
    {
      "cell_type": "markdown",
      "metadata": {
        "id": "oGuwrCuxFS-9",
        "colab_type": "text"
      },
      "source": [
        "## Check if the unlabeled data has also empty postText entries or not"
      ]
    },
    {
      "cell_type": "code",
      "metadata": {
        "id": "jPOPV1A_FDid",
        "colab_type": "code",
        "outputId": "5e2aa683-51dc-4a00-d69a-863b85866bfd",
        "colab": {
          "base_uri": "https://localhost:8080/",
          "height": 198
        }
      },
      "source": [
        "df_unlab = pd.read_csv(path_clickbait + 'data/unlabeled_text.csv')\n",
        "df_unlab[:5]"
      ],
      "execution_count": 0,
      "outputs": [
        {
          "output_type": "execute_result",
          "data": {
            "text/html": [
              "<div>\n",
              "<style scoped>\n",
              "    .dataframe tbody tr th:only-of-type {\n",
              "        vertical-align: middle;\n",
              "    }\n",
              "\n",
              "    .dataframe tbody tr th {\n",
              "        vertical-align: top;\n",
              "    }\n",
              "\n",
              "    .dataframe thead th {\n",
              "        text-align: right;\n",
              "    }\n",
              "</style>\n",
              "<table border=\"1\" class=\"dataframe\">\n",
              "  <thead>\n",
              "    <tr style=\"text-align: right;\">\n",
              "      <th></th>\n",
              "      <th>label</th>\n",
              "      <th>postText</th>\n",
              "    </tr>\n",
              "  </thead>\n",
              "  <tbody>\n",
              "    <tr>\n",
              "      <th>0</th>\n",
              "      <td>unlabeled</td>\n",
              "      <td>Are high-end, big-budget films the future of f...</td>\n",
              "    </tr>\n",
              "    <tr>\n",
              "      <th>1</th>\n",
              "      <td>unlabeled</td>\n",
              "      <td>India has more than its cash crisis to worry a...</td>\n",
              "    </tr>\n",
              "    <tr>\n",
              "      <th>2</th>\n",
              "      <td>unlabeled</td>\n",
              "      <td>12 years after her murder, DNA from teen victi...</td>\n",
              "    </tr>\n",
              "    <tr>\n",
              "      <th>3</th>\n",
              "      <td>unlabeled</td>\n",
              "      <td>Hey, @ArvindKejriwal, you did it - New #Delhi ...</td>\n",
              "    </tr>\n",
              "    <tr>\n",
              "      <th>4</th>\n",
              "      <td>unlabeled</td>\n",
              "      <td>\"You heard it here first\": Man predicted 2016 ...</td>\n",
              "    </tr>\n",
              "  </tbody>\n",
              "</table>\n",
              "</div>"
            ],
            "text/plain": [
              "       label                                           postText\n",
              "0  unlabeled  Are high-end, big-budget films the future of f...\n",
              "1  unlabeled  India has more than its cash crisis to worry a...\n",
              "2  unlabeled  12 years after her murder, DNA from teen victi...\n",
              "3  unlabeled  Hey, @ArvindKejriwal, you did it - New #Delhi ...\n",
              "4  unlabeled  \"You heard it here first\": Man predicted 2016 ..."
            ]
          },
          "metadata": {
            "tags": []
          },
          "execution_count": 37
        }
      ]
    },
    {
      "cell_type": "code",
      "metadata": {
        "id": "9mm7g1ciFres",
        "colab_type": "code",
        "outputId": "08ea2b4e-dca3-485f-b3c3-ac3f1607ebc2",
        "colab": {
          "base_uri": "https://localhost:8080/",
          "height": 35
        }
      },
      "source": [
        "df_unlab.isnull().any().any()"
      ],
      "execution_count": 0,
      "outputs": [
        {
          "output_type": "execute_result",
          "data": {
            "text/plain": [
              "False"
            ]
          },
          "metadata": {
            "tags": []
          },
          "execution_count": 38
        }
      ]
    },
    {
      "cell_type": "markdown",
      "metadata": {
        "id": "r0yYbW94Fxau",
        "colab_type": "text"
      },
      "source": [
        "# Combine both labeled and unlabeled datasets into one file (to train our Language Model with more data later)"
      ]
    },
    {
      "cell_type": "code",
      "metadata": {
        "id": "BlijhoGYFuaS",
        "colab_type": "code",
        "outputId": "29222485-dbe9-4f01-d9bb-114e94b4be76",
        "colab": {
          "base_uri": "https://localhost:8080/",
          "height": 198
        }
      },
      "source": [
        "df_lab = pd.read_csv(path_clickbait + \"data/modified_labels_text.csv\")\n",
        "df_lab[:5]"
      ],
      "execution_count": 0,
      "outputs": [
        {
          "output_type": "execute_result",
          "data": {
            "text/html": [
              "<div>\n",
              "<style scoped>\n",
              "    .dataframe tbody tr th:only-of-type {\n",
              "        vertical-align: middle;\n",
              "    }\n",
              "\n",
              "    .dataframe tbody tr th {\n",
              "        vertical-align: top;\n",
              "    }\n",
              "\n",
              "    .dataframe thead th {\n",
              "        text-align: right;\n",
              "    }\n",
              "</style>\n",
              "<table border=\"1\" class=\"dataframe\">\n",
              "  <thead>\n",
              "    <tr style=\"text-align: right;\">\n",
              "      <th></th>\n",
              "      <th>label</th>\n",
              "      <th>postText</th>\n",
              "    </tr>\n",
              "  </thead>\n",
              "  <tbody>\n",
              "    <tr>\n",
              "      <th>0</th>\n",
              "      <td>clickbait</td>\n",
              "      <td>Facts that will be truly upsetting to '90s girls</td>\n",
              "    </tr>\n",
              "    <tr>\n",
              "      <th>1</th>\n",
              "      <td>no-clickbait</td>\n",
              "      <td>UK’s response to modern slavery leaving victim...</td>\n",
              "    </tr>\n",
              "    <tr>\n",
              "      <th>2</th>\n",
              "      <td>no-clickbait</td>\n",
              "      <td>Inside North Korea's secret prisons</td>\n",
              "    </tr>\n",
              "    <tr>\n",
              "      <th>3</th>\n",
              "      <td>no-clickbait</td>\n",
              "      <td>Trump has flip-flopped. But his supporters are...</td>\n",
              "    </tr>\n",
              "    <tr>\n",
              "      <th>4</th>\n",
              "      <td>no-clickbait</td>\n",
              "      <td>Trump now agrees with the majority of American...</td>\n",
              "    </tr>\n",
              "  </tbody>\n",
              "</table>\n",
              "</div>"
            ],
            "text/plain": [
              "          label                                           postText\n",
              "0     clickbait   Facts that will be truly upsetting to '90s girls\n",
              "1  no-clickbait  UK’s response to modern slavery leaving victim...\n",
              "2  no-clickbait                Inside North Korea's secret prisons\n",
              "3  no-clickbait  Trump has flip-flopped. But his supporters are...\n",
              "4  no-clickbait  Trump now agrees with the majority of American..."
            ]
          },
          "metadata": {
            "tags": []
          },
          "execution_count": 43
        }
      ]
    },
    {
      "cell_type": "markdown",
      "metadata": {
        "id": "0COkB5cGHk_8",
        "colab_type": "text"
      },
      "source": [
        "**We use this combined file later to fine-tune a pretrained \"Language Model\" and we just need the \"postText\" column for that. So the label here is not important (clickbait, no-clickbait or unlabeled)**"
      ]
    },
    {
      "cell_type": "code",
      "metadata": {
        "id": "wENcwJdXG7E4",
        "colab_type": "code",
        "outputId": "bb9a4fc1-b573-4045-d21f-b63959a9c045",
        "colab": {
          "base_uri": "https://localhost:8080/",
          "height": 1000
        }
      },
      "source": [
        "lab_unlab = pd.concat([df_lab, df_unlab], ignore_index=True)\n",
        "lab_unlab"
      ],
      "execution_count": 0,
      "outputs": [
        {
          "output_type": "execute_result",
          "data": {
            "text/html": [
              "<div>\n",
              "<style scoped>\n",
              "    .dataframe tbody tr th:only-of-type {\n",
              "        vertical-align: middle;\n",
              "    }\n",
              "\n",
              "    .dataframe tbody tr th {\n",
              "        vertical-align: top;\n",
              "    }\n",
              "\n",
              "    .dataframe thead th {\n",
              "        text-align: right;\n",
              "    }\n",
              "</style>\n",
              "<table border=\"1\" class=\"dataframe\">\n",
              "  <thead>\n",
              "    <tr style=\"text-align: right;\">\n",
              "      <th></th>\n",
              "      <th>label</th>\n",
              "      <th>postText</th>\n",
              "    </tr>\n",
              "  </thead>\n",
              "  <tbody>\n",
              "    <tr>\n",
              "      <th>0</th>\n",
              "      <td>clickbait</td>\n",
              "      <td>Facts that will be truly upsetting to '90s girls</td>\n",
              "    </tr>\n",
              "    <tr>\n",
              "      <th>1</th>\n",
              "      <td>no-clickbait</td>\n",
              "      <td>UK’s response to modern slavery leaving victim...</td>\n",
              "    </tr>\n",
              "    <tr>\n",
              "      <th>2</th>\n",
              "      <td>no-clickbait</td>\n",
              "      <td>Inside North Korea's secret prisons</td>\n",
              "    </tr>\n",
              "    <tr>\n",
              "      <th>3</th>\n",
              "      <td>no-clickbait</td>\n",
              "      <td>Trump has flip-flopped. But his supporters are...</td>\n",
              "    </tr>\n",
              "    <tr>\n",
              "      <th>4</th>\n",
              "      <td>no-clickbait</td>\n",
              "      <td>Trump now agrees with the majority of American...</td>\n",
              "    </tr>\n",
              "    <tr>\n",
              "      <th>5</th>\n",
              "      <td>no-clickbait</td>\n",
              "      <td>We spoke with the guy who recreated hip-hop al...</td>\n",
              "    </tr>\n",
              "    <tr>\n",
              "      <th>6</th>\n",
              "      <td>no-clickbait</td>\n",
              "      <td>Almost 20% of Pres. Trump's first 100 days wer...</td>\n",
              "    </tr>\n",
              "    <tr>\n",
              "      <th>7</th>\n",
              "      <td>no-clickbait</td>\n",
              "      <td>Turkey has blocked access to Wikipedia over wh...</td>\n",
              "    </tr>\n",
              "    <tr>\n",
              "      <th>8</th>\n",
              "      <td>clickbait</td>\n",
              "      <td>The dictionary left no uncertainty as to whom ...</td>\n",
              "    </tr>\n",
              "    <tr>\n",
              "      <th>9</th>\n",
              "      <td>clickbait</td>\n",
              "      <td>In the latest airline episode captured on vide...</td>\n",
              "    </tr>\n",
              "    <tr>\n",
              "      <th>10</th>\n",
              "      <td>no-clickbait</td>\n",
              "      <td>Hacker releases new episodes of 'Orange Is the...</td>\n",
              "    </tr>\n",
              "    <tr>\n",
              "      <th>11</th>\n",
              "      <td>no-clickbait</td>\n",
              "      <td>Taylor Bennett speaks on branding, building hi...</td>\n",
              "    </tr>\n",
              "    <tr>\n",
              "      <th>12</th>\n",
              "      <td>no-clickbait</td>\n",
              "      <td>Knife crime up 14% because gang warfare is bec...</td>\n",
              "    </tr>\n",
              "    <tr>\n",
              "      <th>13</th>\n",
              "      <td>clickbait</td>\n",
              "      <td>act of (paid) love</td>\n",
              "    </tr>\n",
              "    <tr>\n",
              "      <th>14</th>\n",
              "      <td>no-clickbait</td>\n",
              "      <td>Check out @MileyCyrus' new tattoo of her dog E...</td>\n",
              "    </tr>\n",
              "    <tr>\n",
              "      <th>15</th>\n",
              "      <td>no-clickbait</td>\n",
              "      <td>The kids suing Donald Trump over inaction on g...</td>\n",
              "    </tr>\n",
              "    <tr>\n",
              "      <th>16</th>\n",
              "      <td>no-clickbait</td>\n",
              "      <td>Don’t panic: Donald Trump has started out like...</td>\n",
              "    </tr>\n",
              "    <tr>\n",
              "      <th>17</th>\n",
              "      <td>clickbait</td>\n",
              "      <td>this is good</td>\n",
              "    </tr>\n",
              "    <tr>\n",
              "      <th>18</th>\n",
              "      <td>no-clickbait</td>\n",
              "      <td>In Trump's White House, CEOs are shaping econo...</td>\n",
              "    </tr>\n",
              "    <tr>\n",
              "      <th>19</th>\n",
              "      <td>no-clickbait</td>\n",
              "      <td>How has the world changed after 100 days of @r...</td>\n",
              "    </tr>\n",
              "    <tr>\n",
              "      <th>20</th>\n",
              "      <td>no-clickbait</td>\n",
              "      <td>Protesters to hold opposition march as Trump h...</td>\n",
              "    </tr>\n",
              "    <tr>\n",
              "      <th>21</th>\n",
              "      <td>no-clickbait</td>\n",
              "      <td>US service member killed in blast near Mosul, ...</td>\n",
              "    </tr>\n",
              "    <tr>\n",
              "      <th>22</th>\n",
              "      <td>clickbait</td>\n",
              "      <td>\"We finally got our hero.\"</td>\n",
              "    </tr>\n",
              "    <tr>\n",
              "      <th>23</th>\n",
              "      <td>no-clickbait</td>\n",
              "      <td>Pakistan’s prime minister, having survived Sup...</td>\n",
              "    </tr>\n",
              "    <tr>\n",
              "      <th>24</th>\n",
              "      <td>no-clickbait</td>\n",
              "      <td>One portion of the Trump trade is alive and well</td>\n",
              "    </tr>\n",
              "    <tr>\n",
              "      <th>25</th>\n",
              "      <td>clickbait</td>\n",
              "      <td>Things got a little heated at hedge-fund poker...</td>\n",
              "    </tr>\n",
              "    <tr>\n",
              "      <th>26</th>\n",
              "      <td>no-clickbait</td>\n",
              "      <td>Arkansas execution: Judge orders post-mortem</td>\n",
              "    </tr>\n",
              "    <tr>\n",
              "      <th>27</th>\n",
              "      <td>no-clickbait</td>\n",
              "      <td>Prison bus runs over 'injured' corrections off...</td>\n",
              "    </tr>\n",
              "    <tr>\n",
              "      <th>28</th>\n",
              "      <td>clickbait</td>\n",
              "      <td>bye</td>\n",
              "    </tr>\n",
              "    <tr>\n",
              "      <th>29</th>\n",
              "      <td>no-clickbait</td>\n",
              "      <td>With strong job creation, Wyoming and New Mexi...</td>\n",
              "    </tr>\n",
              "    <tr>\n",
              "      <th>...</th>\n",
              "      <td>...</td>\n",
              "      <td>...</td>\n",
              "    </tr>\n",
              "    <tr>\n",
              "      <th>99467</th>\n",
              "      <td>unlabeled</td>\n",
              "      <td>Black and British by David Olusoga review – re...</td>\n",
              "    </tr>\n",
              "    <tr>\n",
              "      <th>99468</th>\n",
              "      <td>unlabeled</td>\n",
              "      <td>Former NHS director sues Jeremy Hunt for relig...</td>\n",
              "    </tr>\n",
              "    <tr>\n",
              "      <th>99469</th>\n",
              "      <td>unlabeled</td>\n",
              "      <td>Professor who criticised Trump questioned by p...</td>\n",
              "    </tr>\n",
              "    <tr>\n",
              "      <th>99470</th>\n",
              "      <td>unlabeled</td>\n",
              "      <td>Kate Upton fired off a series of tweets about ...</td>\n",
              "    </tr>\n",
              "    <tr>\n",
              "      <th>99471</th>\n",
              "      <td>unlabeled</td>\n",
              "      <td>#Review\\n#Shivaay could have been wonderful if...</td>\n",
              "    </tr>\n",
              "    <tr>\n",
              "      <th>99472</th>\n",
              "      <td>unlabeled</td>\n",
              "      <td>Meat cleaver suspect in New York pleads not gu...</td>\n",
              "    </tr>\n",
              "    <tr>\n",
              "      <th>99473</th>\n",
              "      <td>unlabeled</td>\n",
              "      <td>Nevada judge denies Trump campaign request to ...</td>\n",
              "    </tr>\n",
              "    <tr>\n",
              "      <th>99474</th>\n",
              "      <td>unlabeled</td>\n",
              "      <td>Got two minutes? Take the world’s shortest fli...</td>\n",
              "    </tr>\n",
              "    <tr>\n",
              "      <th>99475</th>\n",
              "      <td>unlabeled</td>\n",
              "      <td>Dow 19000 was nice, but Dow 20000 is the real ...</td>\n",
              "    </tr>\n",
              "    <tr>\n",
              "      <th>99476</th>\n",
              "      <td>unlabeled</td>\n",
              "      <td>Australian territory minister invites visit by...</td>\n",
              "    </tr>\n",
              "    <tr>\n",
              "      <th>99477</th>\n",
              "      <td>unlabeled</td>\n",
              "      <td>Lindsay Lohan is desperate for everyone to sto...</td>\n",
              "    </tr>\n",
              "    <tr>\n",
              "      <th>99478</th>\n",
              "      <td>unlabeled</td>\n",
              "      <td>It's easy, and wrong, to blame cars for New De...</td>\n",
              "    </tr>\n",
              "    <tr>\n",
              "      <th>99479</th>\n",
              "      <td>unlabeled</td>\n",
              "      <td>After Manning and Snowden, the NSA added new s...</td>\n",
              "    </tr>\n",
              "    <tr>\n",
              "      <th>99480</th>\n",
              "      <td>unlabeled</td>\n",
              "      <td>Dwayne 'The Rock' Johnson named 'People's Sexi...</td>\n",
              "    </tr>\n",
              "    <tr>\n",
              "      <th>99481</th>\n",
              "      <td>unlabeled</td>\n",
              "      <td>Bullingdon Club portrait of Cameron and Johnso...</td>\n",
              "    </tr>\n",
              "    <tr>\n",
              "      <th>99482</th>\n",
              "      <td>unlabeled</td>\n",
              "      <td>People who identify with their work colleagues...</td>\n",
              "    </tr>\n",
              "    <tr>\n",
              "      <th>99483</th>\n",
              "      <td>unlabeled</td>\n",
              "      <td>Prosecutors say rigging that led to 2013 plung...</td>\n",
              "    </tr>\n",
              "    <tr>\n",
              "      <th>99484</th>\n",
              "      <td>unlabeled</td>\n",
              "      <td>Sixty Tory MPs demand Theresa May commits Brit...</td>\n",
              "    </tr>\n",
              "    <tr>\n",
              "      <th>99485</th>\n",
              "      <td>unlabeled</td>\n",
              "      <td>Trump suggests Obama's campaigning is a confli...</td>\n",
              "    </tr>\n",
              "    <tr>\n",
              "      <th>99486</th>\n",
              "      <td>unlabeled</td>\n",
              "      <td>Wellness and well-being aren't the same thing,...</td>\n",
              "    </tr>\n",
              "    <tr>\n",
              "      <th>99487</th>\n",
              "      <td>unlabeled</td>\n",
              "      <td>Gold is sliding as the US presidential electio...</td>\n",
              "    </tr>\n",
              "    <tr>\n",
              "      <th>99488</th>\n",
              "      <td>unlabeled</td>\n",
              "      <td>Delta slaps lifetime ban on passenger after pr...</td>\n",
              "    </tr>\n",
              "    <tr>\n",
              "      <th>99489</th>\n",
              "      <td>unlabeled</td>\n",
              "      <td>RBS may be fined more than $12bn to settle US ...</td>\n",
              "    </tr>\n",
              "    <tr>\n",
              "      <th>99490</th>\n",
              "      <td>unlabeled</td>\n",
              "      <td>Peter Thiel’s victory is a chance to bridge th...</td>\n",
              "    </tr>\n",
              "    <tr>\n",
              "      <th>99491</th>\n",
              "      <td>unlabeled</td>\n",
              "      <td>When it comes to fashion, the Trumps are not t...</td>\n",
              "    </tr>\n",
              "    <tr>\n",
              "      <th>99492</th>\n",
              "      <td>unlabeled</td>\n",
              "      <td>Teen told cancer survivor shirt violates schoo...</td>\n",
              "    </tr>\n",
              "    <tr>\n",
              "      <th>99493</th>\n",
              "      <td>unlabeled</td>\n",
              "      <td>California voters reject repeal of death penal...</td>\n",
              "    </tr>\n",
              "    <tr>\n",
              "      <th>99494</th>\n",
              "      <td>unlabeled</td>\n",
              "      <td>Are England's teachers being paid enough?</td>\n",
              "    </tr>\n",
              "    <tr>\n",
              "      <th>99495</th>\n",
              "      <td>unlabeled</td>\n",
              "      <td>We bet you missed @iamsrk in the #ADHMTrailer!</td>\n",
              "    </tr>\n",
              "    <tr>\n",
              "      <th>99496</th>\n",
              "      <td>unlabeled</td>\n",
              "      <td>Most of the refugees arriving in Europe never ...</td>\n",
              "    </tr>\n",
              "  </tbody>\n",
              "</table>\n",
              "<p>99497 rows × 2 columns</p>\n",
              "</div>"
            ],
            "text/plain": [
              "              label                                           postText\n",
              "0         clickbait   Facts that will be truly upsetting to '90s girls\n",
              "1      no-clickbait  UK’s response to modern slavery leaving victim...\n",
              "2      no-clickbait                Inside North Korea's secret prisons\n",
              "3      no-clickbait  Trump has flip-flopped. But his supporters are...\n",
              "4      no-clickbait  Trump now agrees with the majority of American...\n",
              "5      no-clickbait  We spoke with the guy who recreated hip-hop al...\n",
              "6      no-clickbait  Almost 20% of Pres. Trump's first 100 days wer...\n",
              "7      no-clickbait  Turkey has blocked access to Wikipedia over wh...\n",
              "8         clickbait  The dictionary left no uncertainty as to whom ...\n",
              "9         clickbait  In the latest airline episode captured on vide...\n",
              "10     no-clickbait  Hacker releases new episodes of 'Orange Is the...\n",
              "11     no-clickbait  Taylor Bennett speaks on branding, building hi...\n",
              "12     no-clickbait  Knife crime up 14% because gang warfare is bec...\n",
              "13        clickbait                                 act of (paid) love\n",
              "14     no-clickbait  Check out @MileyCyrus' new tattoo of her dog E...\n",
              "15     no-clickbait  The kids suing Donald Trump over inaction on g...\n",
              "16     no-clickbait  Don’t panic: Donald Trump has started out like...\n",
              "17        clickbait                                       this is good\n",
              "18     no-clickbait  In Trump's White House, CEOs are shaping econo...\n",
              "19     no-clickbait  How has the world changed after 100 days of @r...\n",
              "20     no-clickbait  Protesters to hold opposition march as Trump h...\n",
              "21     no-clickbait  US service member killed in blast near Mosul, ...\n",
              "22        clickbait                         \"We finally got our hero.\"\n",
              "23     no-clickbait  Pakistan’s prime minister, having survived Sup...\n",
              "24     no-clickbait   One portion of the Trump trade is alive and well\n",
              "25        clickbait  Things got a little heated at hedge-fund poker...\n",
              "26     no-clickbait       Arkansas execution: Judge orders post-mortem\n",
              "27     no-clickbait  Prison bus runs over 'injured' corrections off...\n",
              "28        clickbait                                                bye\n",
              "29     no-clickbait  With strong job creation, Wyoming and New Mexi...\n",
              "...             ...                                                ...\n",
              "99467     unlabeled  Black and British by David Olusoga review – re...\n",
              "99468     unlabeled  Former NHS director sues Jeremy Hunt for relig...\n",
              "99469     unlabeled  Professor who criticised Trump questioned by p...\n",
              "99470     unlabeled  Kate Upton fired off a series of tweets about ...\n",
              "99471     unlabeled  #Review\\n#Shivaay could have been wonderful if...\n",
              "99472     unlabeled  Meat cleaver suspect in New York pleads not gu...\n",
              "99473     unlabeled  Nevada judge denies Trump campaign request to ...\n",
              "99474     unlabeled  Got two minutes? Take the world’s shortest fli...\n",
              "99475     unlabeled  Dow 19000 was nice, but Dow 20000 is the real ...\n",
              "99476     unlabeled  Australian territory minister invites visit by...\n",
              "99477     unlabeled  Lindsay Lohan is desperate for everyone to sto...\n",
              "99478     unlabeled  It's easy, and wrong, to blame cars for New De...\n",
              "99479     unlabeled  After Manning and Snowden, the NSA added new s...\n",
              "99480     unlabeled  Dwayne 'The Rock' Johnson named 'People's Sexi...\n",
              "99481     unlabeled  Bullingdon Club portrait of Cameron and Johnso...\n",
              "99482     unlabeled  People who identify with their work colleagues...\n",
              "99483     unlabeled  Prosecutors say rigging that led to 2013 plung...\n",
              "99484     unlabeled  Sixty Tory MPs demand Theresa May commits Brit...\n",
              "99485     unlabeled  Trump suggests Obama's campaigning is a confli...\n",
              "99486     unlabeled  Wellness and well-being aren't the same thing,...\n",
              "99487     unlabeled  Gold is sliding as the US presidential electio...\n",
              "99488     unlabeled  Delta slaps lifetime ban on passenger after pr...\n",
              "99489     unlabeled  RBS may be fined more than $12bn to settle US ...\n",
              "99490     unlabeled  Peter Thiel’s victory is a chance to bridge th...\n",
              "99491     unlabeled  When it comes to fashion, the Trumps are not t...\n",
              "99492     unlabeled  Teen told cancer survivor shirt violates schoo...\n",
              "99493     unlabeled  California voters reject repeal of death penal...\n",
              "99494     unlabeled          Are England's teachers being paid enough?\n",
              "99495     unlabeled     We bet you missed @iamsrk in the #ADHMTrailer!\n",
              "99496     unlabeled  Most of the refugees arriving in Europe never ...\n",
              "\n",
              "[99497 rows x 2 columns]"
            ]
          },
          "metadata": {
            "tags": []
          },
          "execution_count": 44
        }
      ]
    },
    {
      "cell_type": "code",
      "metadata": {
        "id": "Bvb035ihHH_u",
        "colab_type": "code",
        "outputId": "1ae056e1-6f80-46ff-e2f3-33375cf32e3f",
        "colab": {
          "base_uri": "https://localhost:8080/",
          "height": 35
        }
      },
      "source": [
        "len(lab_unlab)"
      ],
      "execution_count": 0,
      "outputs": [
        {
          "output_type": "execute_result",
          "data": {
            "text/plain": [
              "99497"
            ]
          },
          "metadata": {
            "tags": []
          },
          "execution_count": 45
        }
      ]
    },
    {
      "cell_type": "code",
      "metadata": {
        "id": "4Cih4KDdZ5Vr",
        "colab_type": "code",
        "outputId": "e6a819e1-42b7-4015-982b-4e706f57adaf",
        "colab": {
          "base_uri": "https://localhost:8080/",
          "height": 35
        }
      },
      "source": [
        "lab_unlab.isnull().any().any()"
      ],
      "execution_count": 0,
      "outputs": [
        {
          "output_type": "execute_result",
          "data": {
            "text/plain": [
              "False"
            ]
          },
          "metadata": {
            "tags": []
          },
          "execution_count": 48
        }
      ]
    },
    {
      "cell_type": "code",
      "metadata": {
        "id": "gYNCRYdDHPBZ",
        "colab_type": "code",
        "colab": {}
      },
      "source": [
        "lab_unlab.to_csv(path_clickbait + \"data/lab_unlab_text.csv\", index=False)"
      ],
      "execution_count": 0,
      "outputs": []
    },
    {
      "cell_type": "code",
      "metadata": {
        "id": "v8V8LyWIZu_f",
        "colab_type": "code",
        "colab": {}
      },
      "source": [
        ""
      ],
      "execution_count": 0,
      "outputs": []
    }
  ]
}