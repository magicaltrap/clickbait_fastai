{
  "nbformat": 4,
  "nbformat_minor": 0,
  "metadata": {
    "colab": {
      "name": "clickbait_detection.ipynb",
      "version": "0.3.2",
      "provenance": [],
      "collapsed_sections": [],
      "toc_visible": true,
      "include_colab_link": true
    },
    "kernelspec": {
      "name": "python3",
      "display_name": "Python 3"
    },
    "accelerator": "GPU"
  },
  "cells": [
    {
      "cell_type": "markdown",
      "metadata": {
        "id": "view-in-github",
        "colab_type": "text"
      },
      "source": [
        "<a href=\"https://colab.research.google.com/github/magicaltrap/clickbait_fastai/blob/master/clickbait_detection.ipynb\" target=\"_parent\"><img src=\"https://colab.research.google.com/assets/colab-badge.svg\" alt=\"Open In Colab\"/></a>"
      ]
    },
    {
      "cell_type": "markdown",
      "metadata": {
        "id": "d6sp_tr2OJU4",
        "colab_type": "text"
      },
      "source": [
        "# Setup\n",
        "How to run fastai library in Google Colab: https://course.fast.ai/start_colab.html"
      ]
    },
    {
      "cell_type": "code",
      "metadata": {
        "id": "o7yUY44DK42o",
        "colab_type": "code",
        "outputId": "c12ac869-9b7f-470d-94fe-a2636f53d565",
        "colab": {
          "base_uri": "https://localhost:8080/",
          "height": 54
        }
      },
      "source": [
        " !curl -s https://course.fast.ai/setup/colab | bash"
      ],
      "execution_count": 0,
      "outputs": [
        {
          "output_type": "stream",
          "text": [
            "Updating fastai...\n",
            "Done.\n"
          ],
          "name": "stdout"
        }
      ]
    },
    {
      "cell_type": "code",
      "metadata": {
        "id": "ssDX9Dp6OarA",
        "colab_type": "code",
        "outputId": "067e8007-3f75-44aa-f8f0-dcdc9ca7e88e",
        "colab": {
          "base_uri": "https://localhost:8080/",
          "height": 35
        }
      },
      "source": [
        "from google.colab import drive\n",
        "drive.mount('/content/gdrive', force_remount=True)\n",
        "root_dir = \"/content/gdrive/My Drive/\"\n",
        "path_clickbait = \"/content/gdrive/My Drive/data/clickbait/\"\n",
        "path_clickbait_detection = \"/content/gdrive/My Drive/data/clickbait/clickbait_detection/\""
      ],
      "execution_count": 0,
      "outputs": [
        {
          "output_type": "stream",
          "text": [
            "Mounted at /content/gdrive\n"
          ],
          "name": "stdout"
        }
      ]
    },
    {
      "cell_type": "code",
      "metadata": {
        "id": "I_36D4YxOixy",
        "colab_type": "code",
        "colab": {}
      },
      "source": [
        "from fastai import *\n",
        "from fastai.text import *\n",
        "\n",
        "import pandas as pd"
      ],
      "execution_count": 0,
      "outputs": []
    },
    {
      "cell_type": "markdown",
      "metadata": {
        "id": "GdFagjuRUypt",
        "colab_type": "text"
      },
      "source": [
        "# Language Model"
      ]
    },
    {
      "cell_type": "markdown",
      "metadata": {
        "id": "MFOC6qtEeIGk",
        "colab_type": "text"
      },
      "source": [
        "## Create TextDataBunch\n",
        "We load our combined labeled/unlabeled .csv file (that we created in the separate preprocessed_csv.ipynb file) into a TextDataBunch. fastai's TextDataBunch is a very useful tool and does for us:\n",
        "\n",
        "*   data storage\n",
        "*   splitting our data into training and validation sets\n",
        "*   automatic tokenization and numericalization \n",
        "*   etc.\n",
        "\n",
        "We will use the labeled and unlabeled \"postTexts\" (Twitter posts) later to fine-tune our language model (see below)."
      ]
    },
    {
      "cell_type": "code",
      "metadata": {
        "id": "1oqyNeuhPTIx",
        "colab_type": "code",
        "colab": {}
      },
      "source": [
        "data_lm = (TextList.from_csv(path_clickbait, 'data/lab_unlab_text.csv', cols=\"postText\")\n",
        "           .split_by_rand_pct()\n",
        "           .label_for_lm()\n",
        "           .databunch())"
      ],
      "execution_count": 0,
      "outputs": []
    },
    {
      "cell_type": "markdown",
      "metadata": {
        "id": "ShWpo8O4DqJS",
        "colab_type": "text"
      },
      "source": [
        "The TextDataBunch also creates a vocabulary dictionary for us. Tokens like \"xxunk\" (unkwown words) or \"xxbos\" (beginning of sentence) are fastai's special tokens. Our clickbait vocabulary consists of 19000 words"
      ]
    },
    {
      "cell_type": "code",
      "metadata": {
        "id": "4kU76rwlaSf0",
        "colab_type": "code",
        "outputId": "0365a160-1e1d-45a9-cde2-c21176c1da2b",
        "colab": {
          "base_uri": "https://localhost:8080/",
          "height": 308
        }
      },
      "source": [
        "data_lm.vocab.itos[:15], len(data_lm.vocab.itos)"
      ],
      "execution_count": 0,
      "outputs": [
        {
          "output_type": "execute_result",
          "data": {
            "text/plain": [
              "(['xxunk',\n",
              "  'xxpad',\n",
              "  'xxbos',\n",
              "  'xxeos',\n",
              "  'xxfld',\n",
              "  'xxmaj',\n",
              "  'xxup',\n",
              "  'xxrep',\n",
              "  'xxwrep',\n",
              "  'the',\n",
              "  'to',\n",
              "  'in',\n",
              "  'a',\n",
              "  ',',\n",
              "  'of'],\n",
              " 19000)"
            ]
          },
          "metadata": {
            "tags": []
          },
          "execution_count": 21
        }
      ]
    },
    {
      "cell_type": "markdown",
      "metadata": {
        "id": "yX623RM1EKOF",
        "colab_type": "text"
      },
      "source": [
        "One Twitter postText example from the training set"
      ]
    },
    {
      "cell_type": "code",
      "metadata": {
        "id": "iXK2Zf59X_Qn",
        "colab_type": "code",
        "outputId": "8aedace3-cfe1-474a-a3e6-5c7306b43736",
        "colab": {
          "base_uri": "https://localhost:8080/",
          "height": 35
        }
      },
      "source": [
        "data_lm.train_ds[0][0]"
      ],
      "execution_count": 0,
      "outputs": [
        {
          "output_type": "execute_result",
          "data": {
            "text/plain": [
              "Text xxbos xxmaj facts that will be truly upsetting to ' 90s girls"
            ]
          },
          "metadata": {
            "tags": []
          },
          "execution_count": 18
        }
      ]
    },
    {
      "cell_type": "markdown",
      "metadata": {
        "id": "s0RGTclJEUJg",
        "colab_type": "text"
      },
      "source": [
        "One Twitter postText example from the validation set"
      ]
    },
    {
      "cell_type": "code",
      "metadata": {
        "id": "Av3ezwSWYXzC",
        "colab_type": "code",
        "outputId": "9cd4fc63-9035-42a0-b505-3a2607395a69",
        "colab": {
          "base_uri": "https://localhost:8080/",
          "height": 35
        }
      },
      "source": [
        "data_lm.valid_ds[0][0]"
      ],
      "execution_count": 0,
      "outputs": [
        {
          "output_type": "execute_result",
          "data": {
            "text/plain": [
              "Text xxbos xxmaj hungarian border guards ' taking selfies with beaten migrants '"
            ]
          },
          "metadata": {
            "tags": []
          },
          "execution_count": 22
        }
      ]
    },
    {
      "cell_type": "code",
      "metadata": {
        "id": "i9HFcVf5aixP",
        "colab_type": "code",
        "outputId": "34a97872-16c5-44ae-a087-5b05466cb26a",
        "colab": {
          "base_uri": "https://localhost:8080/",
          "height": 35
        }
      },
      "source": [
        "len(data_lm.vocab.itos), len(data_lm.train_ds), len(data_lm.valid_ds)"
      ],
      "execution_count": 0,
      "outputs": [
        {
          "output_type": "execute_result",
          "data": {
            "text/plain": [
              "(19000, 79598, 19899)"
            ]
          },
          "metadata": {
            "tags": []
          },
          "execution_count": 23
        }
      ]
    },
    {
      "cell_type": "markdown",
      "metadata": {
        "id": "R77JpiYCEax9",
        "colab_type": "text"
      },
      "source": [
        "More examples:"
      ]
    },
    {
      "cell_type": "code",
      "metadata": {
        "id": "h_oWBd4DaolH",
        "colab_type": "code",
        "outputId": "6ceeb448-78bf-4977-a848-8f19eff46681",
        "colab": {
          "base_uri": "https://localhost:8080/",
          "height": 285
        }
      },
      "source": [
        "data_lm.show_batch()"
      ],
      "execution_count": 0,
      "outputs": [
        {
          "output_type": "display_data",
          "data": {
            "text/html": [
              "<table border=\"1\" class=\"dataframe\">\n",
              "  <thead>\n",
              "    <tr style=\"text-align: right;\">\n",
              "      <th>idx</th>\n",
              "      <th>text</th>\n",
              "    </tr>\n",
              "  </thead>\n",
              "  <tbody>\n",
              "    <tr>\n",
              "      <td>0</td>\n",
              "      <td>\" xxbos xxmaj the dictionary left no uncertainty as to whom \" xxunk \" refers . xxbos xxmaj in the latest airline episode captured on video , a xxmaj delta pilot can be seen xxunk a woman to break up a fight xxbos xxmaj hacker releases new episodes of ' xxmaj orange xxmaj is the xxmaj new xxmaj black ' xxbos xxmaj taylor xxmaj bennett speaks on branding , building</td>\n",
              "    </tr>\n",
              "    <tr>\n",
              "      <td>1</td>\n",
              "      <td>xxbos xxmaj crocodile leaps from the water to attack an elephant in xxmaj malawi xxbos xxmaj talking - car safety mandate hits unexpected opposition xxbos xxmaj first woman to officially run xxmaj boston xxmaj marathon finishes race again at 70 . xxbos xxup doj is xxunk that xxmaj arpaio ’s fate will be decided by a federal judge , not by a jury of his peers . xxbos xxmaj on</td>\n",
              "    </tr>\n",
              "    <tr>\n",
              "      <td>2</td>\n",
              "      <td>xxmaj suspected chemical attack in xxmaj syria “ an xxunk to humanity ” xxbos xxmaj inside xxunk 's complicated legal situation xxbos xxmaj it was the third time he was hit by a thrown ball in just that trip around the bases . xxbos xxmaj the xxmaj donald xxmaj trump of xxmaj brazil declares war on graffiti xxbos xxmaj president xxmaj trump : \" i now have responsibility \" when</td>\n",
              "    </tr>\n",
              "    <tr>\n",
              "      <td>3</td>\n",
              "      <td>days . \\n \\n  xxmaj gonzaga 's average ? 22 years , 150 days . xxbos xxmaj tennessee school bus driver to be arraigned in crash that killed 6 children xxbos xxmaj watch the video for xxmaj iggy xxmaj azalea 's new single \" xxmaj mo xxmaj bounce . \" xxbos xxmaj trump starts healthcare judgment day by attacking conservative xxmaj freedom xxmaj caucus in tweets xxbos a xxmaj</td>\n",
              "    </tr>\n",
              "    <tr>\n",
              "      <td>4</td>\n",
              "      <td>area xxmaj monday night , paralyzing blizzard from xxmaj new xxmaj york to xxmaj boston xxbos 22 puns that went xxup way too far xxbos xxmaj three bachelors played a key , behind - the - scenes role in building the # xxup bjp 's victory in xxmaj uttar xxmaj pradesh . xxbos xxmaj this xxunk went to a museum for his third birthday and he looked very happy xxbos</td>\n",
              "    </tr>\n",
              "  </tbody>\n",
              "</table>"
            ],
            "text/plain": [
              "<IPython.core.display.HTML object>"
            ]
          },
          "metadata": {
            "tags": []
          }
        }
      ]
    },
    {
      "cell_type": "code",
      "metadata": {
        "id": "NEKYk7I6bGtt",
        "colab_type": "code",
        "outputId": "997cfbb5-f306-4d46-da72-3615c0eaf34c",
        "colab": {
          "base_uri": "https://localhost:8080/",
          "height": 668
        }
      },
      "source": [
        "x,y = next(iter(data_lm.train_dl))\n",
        "example = x[:20,:20].cpu()\n",
        "texts = pd.DataFrame([data_lm.train_ds.vocab.textify(l).split(' ') for l in example])\n",
        "texts"
      ],
      "execution_count": 0,
      "outputs": [
        {
          "output_type": "execute_result",
          "data": {
            "text/html": [
              "<div>\n",
              "<style scoped>\n",
              "    .dataframe tbody tr th:only-of-type {\n",
              "        vertical-align: middle;\n",
              "    }\n",
              "\n",
              "    .dataframe tbody tr th {\n",
              "        vertical-align: top;\n",
              "    }\n",
              "\n",
              "    .dataframe thead th {\n",
              "        text-align: right;\n",
              "    }\n",
              "</style>\n",
              "<table border=\"1\" class=\"dataframe\">\n",
              "  <thead>\n",
              "    <tr style=\"text-align: right;\">\n",
              "      <th></th>\n",
              "      <th>0</th>\n",
              "      <th>1</th>\n",
              "      <th>2</th>\n",
              "      <th>3</th>\n",
              "      <th>4</th>\n",
              "      <th>5</th>\n",
              "      <th>6</th>\n",
              "      <th>7</th>\n",
              "      <th>8</th>\n",
              "      <th>9</th>\n",
              "      <th>10</th>\n",
              "      <th>11</th>\n",
              "      <th>12</th>\n",
              "      <th>13</th>\n",
              "      <th>14</th>\n",
              "      <th>15</th>\n",
              "      <th>16</th>\n",
              "      <th>17</th>\n",
              "      <th>18</th>\n",
              "      <th>19</th>\n",
              "    </tr>\n",
              "  </thead>\n",
              "  <tbody>\n",
              "    <tr>\n",
              "      <th>0</th>\n",
              "      <td>his</td>\n",
              "      <td>career</td>\n",
              "      <td>xxunk</td>\n",
              "      <td>at</td>\n",
              "      <td>xxup</td>\n",
              "      <td>nyu</td>\n",
              "      <td>xxbos</td>\n",
              "      <td>xxmaj</td>\n",
              "      <td>knife</td>\n",
              "      <td>crime</td>\n",
              "      <td>up</td>\n",
              "      <td>14</td>\n",
              "      <td>%</td>\n",
              "      <td>because</td>\n",
              "      <td>gang</td>\n",
              "      <td>warfare</td>\n",
              "      <td>is</td>\n",
              "      <td>becoming</td>\n",
              "      <td>'</td>\n",
              "      <td>embedded</td>\n",
              "    </tr>\n",
              "    <tr>\n",
              "      <th>1</th>\n",
              "      <td>his</td>\n",
              "      <td>first</td>\n",
              "      <td>day</td>\n",
              "      <td>on</td>\n",
              "      <td>the</td>\n",
              "      <td>bench</td>\n",
              "      <td>,</td>\n",
              "      <td>xxmaj</td>\n",
              "      <td>justice</td>\n",
              "      <td>xxmaj</td>\n",
              "      <td>neil</td>\n",
              "      <td>xxmaj</td>\n",
              "      <td>gorsuch</td>\n",
              "      <td>was</td>\n",
              "      <td>an</td>\n",
              "      <td>exceptionally</td>\n",
              "      <td>active</td>\n",
              "      <td>xxunk</td>\n",
              "      <td>xxbos</td>\n",
              "      <td>xxmaj</td>\n",
              "    </tr>\n",
              "    <tr>\n",
              "      <th>2</th>\n",
              "      <td>it</td>\n",
              "      <td>comes</td>\n",
              "      <td>to</td>\n",
              "      <td>xxmaj</td>\n",
              "      <td>syria</td>\n",
              "      <td>xxbos</td>\n",
              "      <td>xxmaj</td>\n",
              "      <td>could</td>\n",
              "      <td>xxmaj</td>\n",
              "      <td>marshawn</td>\n",
              "      <td>xxmaj</td>\n",
              "      <td>lynch</td>\n",
              "      <td>be</td>\n",
              "      <td>returning</td>\n",
              "      <td>to</td>\n",
              "      <td>the</td>\n",
              "      <td>xxup</td>\n",
              "      <td>nfl</td>\n",
              "      <td>?</td>\n",
              "      <td>xxbos</td>\n",
              "    </tr>\n",
              "    <tr>\n",
              "      <th>3</th>\n",
              "      <td>raised</td>\n",
              "      <td>$</td>\n",
              "      <td>25,000</td>\n",
              "      <td>for</td>\n",
              "      <td>victims</td>\n",
              "      <td>of</td>\n",
              "      <td>the</td>\n",
              "      <td>xxmaj</td>\n",
              "      <td>london</td>\n",
              "      <td>attack</td>\n",
              "      <td>in</td>\n",
              "      <td>48</td>\n",
              "      <td>hours</td>\n",
              "      <td>xxbos</td>\n",
              "      <td>xxmaj</td>\n",
              "      <td>lone</td>\n",
              "      <td>wolf</td>\n",
              "      <td>or</td>\n",
              "      <td>soldier</td>\n",
              "      <td>of</td>\n",
              "    </tr>\n",
              "    <tr>\n",
              "      <th>4</th>\n",
              "      <td>xxmaj</td>\n",
              "      <td>greensboro</td>\n",
              "      <td>church</td>\n",
              "      <td>selling</td>\n",
              "      <td>xxmaj</td>\n",
              "      <td>syracuse</td>\n",
              "      <td>vs.</td>\n",
              "      <td>xxup</td>\n",
              "      <td>unc</td>\n",
              "      <td>-</td>\n",
              "      <td>xxmaj</td>\n",
              "      <td>greensboro</td>\n",
              "      <td>shirts</td>\n",
              "      <td>ahead</td>\n",
              "      <td>of</td>\n",
              "      <td>xxup</td>\n",
              "      <td>xxunk</td>\n",
              "      <td>game</td>\n",
              "      <td>#</td>\n",
              "      <td>marchmadness</td>\n",
              "    </tr>\n",
              "    <tr>\n",
              "      <th>5</th>\n",
              "      <td>xxup</td>\n",
              "      <td>us</td>\n",
              "      <td>politicians</td>\n",
              "      <td>xxunk</td>\n",
              "      <td>xxunk</td>\n",
              "      <td>xxbos</td>\n",
              "      <td>xxmaj</td>\n",
              "      <td>fit</td>\n",
              "      <td>for</td>\n",
              "      <td>a</td>\n",
              "      <td>king</td>\n",
              "      <td>xxbos</td>\n",
              "      <td>“</td>\n",
              "      <td>xxmaj</td>\n",
              "      <td>it</td>\n",
              "      <td>is</td>\n",
              "      <td>not</td>\n",
              "      <td>compassionate</td>\n",
              "      <td>,</td>\n",
              "      <td>but</td>\n",
              "    </tr>\n",
              "    <tr>\n",
              "      <th>6</th>\n",
              "      <td>shows</td>\n",
              "      <td>about</td>\n",
              "      <td>high</td>\n",
              "      <td>school</td>\n",
              "      <td>football</td>\n",
              "      <td>xxbos</td>\n",
              "      <td>xxmaj</td>\n",
              "      <td>is</td>\n",
              "      <td>this</td>\n",
              "      <td>the</td>\n",
              "      <td>'</td>\n",
              "      <td>master</td>\n",
              "      <td>switch</td>\n",
              "      <td>'</td>\n",
              "      <td>that</td>\n",
              "      <td>prevents</td>\n",
              "      <td>xxmaj</td>\n",
              "      <td>parkinson</td>\n",
              "      <td>'s</td>\n",
              "      <td>disease</td>\n",
              "    </tr>\n",
              "    <tr>\n",
              "      <th>7</th>\n",
              "      <td>looking</td>\n",
              "      <td>for</td>\n",
              "      <td>a</td>\n",
              "      <td>practical</td>\n",
              "      <td>car</td>\n",
              "      <td>?</td>\n",
              "      <td>xxmaj</td>\n",
              "      <td>these</td>\n",
              "      <td>are</td>\n",
              "      <td>the</td>\n",
              "      <td>best</td>\n",
              "      <td>ones</td>\n",
              "      <td>to</td>\n",
              "      <td>get</td>\n",
              "      <td>in</td>\n",
              "      <td>2017</td>\n",
              "      <td>xxbos</td>\n",
              "      <td>xxmaj</td>\n",
              "      <td>falcons</td>\n",
              "      <td>center</td>\n",
              "    </tr>\n",
              "    <tr>\n",
              "      <th>8</th>\n",
              "      <td>xxunk</td>\n",
              "      <td>xxbos</td>\n",
              "      <td>xxmaj</td>\n",
              "      <td>analysis</td>\n",
              "      <td>:</td>\n",
              "      <td>xxmaj</td>\n",
              "      <td>trump</td>\n",
              "      <td>kills</td>\n",
              "      <td>xxup</td>\n",
              "      <td>tpp</td>\n",
              "      <td>,</td>\n",
              "      <td>giving</td>\n",
              "      <td>xxmaj</td>\n",
              "      <td>china</td>\n",
              "      <td>its</td>\n",
              "      <td>first</td>\n",
              "      <td>big</td>\n",
              "      <td>win</td>\n",
              "      <td>xxbos</td>\n",
              "      <td>xxmaj</td>\n",
              "    </tr>\n",
              "    <tr>\n",
              "      <th>9</th>\n",
              "      <td>xxbos</td>\n",
              "      <td>xxmaj</td>\n",
              "      <td>alexander</td>\n",
              "      <td>xxmaj</td>\n",
              "      <td>hamilton</td>\n",
              "      <td>'s</td>\n",
              "      <td>letters</td>\n",
              "      <td>to</td>\n",
              "      <td>be</td>\n",
              "      <td>xxunk</td>\n",
              "      <td>in</td>\n",
              "      <td>xxup</td>\n",
              "      <td>nyc</td>\n",
              "      <td>xxbos</td>\n",
              "      <td>#</td>\n",
              "      <td>xxup</td>\n",
              "      <td>icymi</td>\n",
              "      <td>:</td>\n",
              "      <td>xxmaj</td>\n",
              "      <td>how</td>\n",
              "    </tr>\n",
              "    <tr>\n",
              "      <th>10</th>\n",
              "      <td>all</td>\n",
              "      <td>xxbos</td>\n",
              "      <td>13</td>\n",
              "      <td>people</td>\n",
              "      <td>who</td>\n",
              "      <td>had</td>\n",
              "      <td>a</td>\n",
              "      <td>great</td>\n",
              "      <td>2016</td>\n",
              "      <td>(</td>\n",
              "      <td>and</td>\n",
              "      <td>who</td>\n",
              "      <td>you</td>\n",
              "      <td>can</td>\n",
              "      <td>actually</td>\n",
              "      <td>be</td>\n",
              "      <td>happy</td>\n",
              "      <td>for</td>\n",
              "      <td>)</td>\n",
              "      <td>xxbos</td>\n",
              "    </tr>\n",
              "    <tr>\n",
              "      <th>11</th>\n",
              "      <td>this</td>\n",
              "      <td>tea</td>\n",
              "      <td>-</td>\n",
              "      <td>seller</td>\n",
              "      <td>from</td>\n",
              "      <td>#</td>\n",
              "      <td>xxmaj</td>\n",
              "      <td>gujarat</td>\n",
              "      <td>#</td>\n",
              "      <td>xxmaj</td>\n",
              "      <td>demonetisation</td>\n",
              "      <td>xxbos</td>\n",
              "      <td>xxmaj</td>\n",
              "      <td>saudi</td>\n",
              "      <td>xxmaj</td>\n",
              "      <td>telecom</td>\n",
              "      <td>buys</td>\n",
              "      <td>10</td>\n",
              "      <td>%</td>\n",
              "      <td>stake</td>\n",
              "    </tr>\n",
              "    <tr>\n",
              "      <th>12</th>\n",
              "      <td>.</td>\n",
              "      <td>xxbos</td>\n",
              "      <td>xxup</td>\n",
              "      <td>nasa</td>\n",
              "      <td>photo</td>\n",
              "      <td>reveals</td>\n",
              "      <td>a</td>\n",
              "      <td>startling</td>\n",
              "      <td>xxunk</td>\n",
              "      <td>-</td>\n",
              "      <td>wide</td>\n",
              "      <td>rift</td>\n",
              "      <td>in</td>\n",
              "      <td>xxmaj</td>\n",
              "      <td>antarctic</td>\n",
              "      <td>xxmaj</td>\n",
              "      <td>ice</td>\n",
              "      <td>xxmaj</td>\n",
              "      <td>shelf</td>\n",
              "      <td>xxbos</td>\n",
              "    </tr>\n",
              "    <tr>\n",
              "      <th>13</th>\n",
              "      <td>xxmaj</td>\n",
              "      <td>news</td>\n",
              "      <td>,</td>\n",
              "      <td>in</td>\n",
              "      <td>their</td>\n",
              "      <td>words</td>\n",
              "      <td>xxbos</td>\n",
              "      <td>xxmaj</td>\n",
              "      <td>trevor</td>\n",
              "      <td>xxmaj</td>\n",
              "      <td>noah</td>\n",
              "      <td>:</td>\n",
              "      <td>xxmaj</td>\n",
              "      <td>we</td>\n",
              "      <td>should</td>\n",
              "      <td>treat</td>\n",
              "      <td>xxmaj</td>\n",
              "      <td>trump</td>\n",
              "      <td>'</td>\n",
              "      <td>like</td>\n",
              "    </tr>\n",
              "    <tr>\n",
              "      <th>14</th>\n",
              "      <td>assault</td>\n",
              "      <td>via</td>\n",
              "      <td>xxunk</td>\n",
              "      <td>xxbos</td>\n",
              "      <td>xxmaj</td>\n",
              "      <td>judge</td>\n",
              "      <td>declares</td>\n",
              "      <td>mistrial</td>\n",
              "      <td>in</td>\n",
              "      <td>case</td>\n",
              "      <td>of</td>\n",
              "      <td>xxmaj</td>\n",
              "      <td>ohio</td>\n",
              "      <td>officer</td>\n",
              "      <td>who</td>\n",
              "      <td>killed</td>\n",
              "      <td>black</td>\n",
              "      <td>man</td>\n",
              "      <td>at</td>\n",
              "      <td>traffic</td>\n",
              "    </tr>\n",
              "    <tr>\n",
              "      <th>15</th>\n",
              "      <td>alleged</td>\n",
              "      <td>tax</td>\n",
              "      <td>fraud</td>\n",
              "      <td>🔓</td>\n",
              "      <td>xxbos</td>\n",
              "      <td>xxmaj</td>\n",
              "      <td>apple</td>\n",
              "      <td>to</td>\n",
              "      <td>replace</td>\n",
              "      <td>batteries</td>\n",
              "      <td>for</td>\n",
              "      <td>iphone</td>\n",
              "      <td>6s</td>\n",
              "      <td>with</td>\n",
              "      <td>shutdown</td>\n",
              "      <td>problem</td>\n",
              "      <td>🔓</td>\n",
              "      <td>xxbos</td>\n",
              "      <td>xxmaj</td>\n",
              "      <td>here</td>\n",
              "    </tr>\n",
              "    <tr>\n",
              "      <th>16</th>\n",
              "      <td>into</td>\n",
              "      <td>his</td>\n",
              "      <td>xxmaj</td>\n",
              "      <td>walking</td>\n",
              "      <td>xxmaj</td>\n",
              "      <td>dead</td>\n",
              "      <td>character</td>\n",
              "      <td>'s</td>\n",
              "      <td>mindset</td>\n",
              "      <td>xxbos</td>\n",
              "      <td>“</td>\n",
              "      <td>xxmaj</td>\n",
              "      <td>warrior</td>\n",
              "      <td>xxmaj</td>\n",
              "      <td>dash</td>\n",
              "      <td>”</td>\n",
              "      <td>race</td>\n",
              "      <td>obstacle</td>\n",
              "      <td>collapses</td>\n",
              "      <td>,</td>\n",
              "    </tr>\n",
              "    <tr>\n",
              "      <th>17</th>\n",
              "      <td>xxbos</td>\n",
              "      <td>“</td>\n",
              "      <td>xxup</td>\n",
              "      <td>snl</td>\n",
              "      <td>”</td>\n",
              "      <td>ditched</td>\n",
              "      <td>the</td>\n",
              "      <td>laughs</td>\n",
              "      <td>and</td>\n",
              "      <td>got</td>\n",
              "      <td>super</td>\n",
              "      <td>emotional</td>\n",
              "      <td>xxbos</td>\n",
              "      <td>xxmaj</td>\n",
              "      <td>hillary</td>\n",
              "      <td>xxmaj</td>\n",
              "      <td>clinton</td>\n",
              "      <td>xxmaj</td>\n",
              "      <td>criticizes</td>\n",
              "      <td>xxup</td>\n",
              "    </tr>\n",
              "    <tr>\n",
              "      <th>18</th>\n",
              "      <td>announced</td>\n",
              "      <td>for</td>\n",
              "      <td>robot</td>\n",
              "      <td>chef</td>\n",
              "      <td>which</td>\n",
              "      <td>can</td>\n",
              "      <td>cook</td>\n",
              "      <td>any</td>\n",
              "      <td>meal</td>\n",
              "      <td>and</td>\n",
              "      <td>wash</td>\n",
              "      <td>up</td>\n",
              "      <td>after</td>\n",
              "      <td>itself</td>\n",
              "      <td>xxbos</td>\n",
              "      <td>\"</td>\n",
              "      <td>xxmaj</td>\n",
              "      <td>with</td>\n",
              "      <td>xxmaj</td>\n",
              "      <td>malik</td>\n",
              "    </tr>\n",
              "    <tr>\n",
              "      <th>19</th>\n",
              "      <td>demand</td>\n",
              "      <td>:</td>\n",
              "      <td>xxmaj</td>\n",
              "      <td>pay</td>\n",
              "      <td>or</td>\n",
              "      <td>die</td>\n",
              "      <td>xxbos</td>\n",
              "      <td>xxmaj</td>\n",
              "      <td>reddit</td>\n",
              "      <td>xxup</td>\n",
              "      <td>ceo</td>\n",
              "      <td>admits</td>\n",
              "      <td>to</td>\n",
              "      <td>editing</td>\n",
              "      <td>user</td>\n",
              "      <td>comments</td>\n",
              "      <td>that</td>\n",
              "      <td>criticized</td>\n",
              "      <td>him</td>\n",
              "      <td>xxbos</td>\n",
              "    </tr>\n",
              "  </tbody>\n",
              "</table>\n",
              "</div>"
            ],
            "text/plain": [
              "           0           1            2   ...             17          18            19\n",
              "0         his      career        xxunk  ...       becoming           '      embedded\n",
              "1         his       first          day  ...          xxunk       xxbos         xxmaj\n",
              "2          it       comes           to  ...            nfl           ?         xxbos\n",
              "3      raised           $       25,000  ...             or     soldier            of\n",
              "4       xxmaj  greensboro       church  ...           game           #  marchmadness\n",
              "5        xxup          us  politicians  ...  compassionate           ,           but\n",
              "6       shows       about         high  ...      parkinson          's       disease\n",
              "7     looking         for            a  ...          xxmaj     falcons        center\n",
              "8       xxunk       xxbos        xxmaj  ...            win       xxbos         xxmaj\n",
              "9       xxbos       xxmaj    alexander  ...              :       xxmaj           how\n",
              "10        all       xxbos           13  ...            for           )         xxbos\n",
              "11       this         tea            -  ...             10           %         stake\n",
              "12          .       xxbos         xxup  ...          xxmaj       shelf         xxbos\n",
              "13      xxmaj        news            ,  ...          trump           '          like\n",
              "14    assault         via        xxunk  ...            man          at       traffic\n",
              "15    alleged         tax        fraud  ...          xxbos       xxmaj          here\n",
              "16       into         his        xxmaj  ...       obstacle   collapses             ,\n",
              "17      xxbos           “         xxup  ...          xxmaj  criticizes          xxup\n",
              "18  announced         for        robot  ...           with       xxmaj         malik\n",
              "19     demand           :        xxmaj  ...     criticized         him         xxbos\n",
              "\n",
              "[20 rows x 20 columns]"
            ]
          },
          "metadata": {
            "tags": []
          },
          "execution_count": 27
        }
      ]
    },
    {
      "cell_type": "markdown",
      "metadata": {
        "id": "MtCBJ8L7dkHk",
        "colab_type": "text"
      },
      "source": [
        "### Save TextDataBunch"
      ]
    },
    {
      "cell_type": "code",
      "metadata": {
        "id": "gK61E-QgdfHU",
        "colab_type": "code",
        "colab": {}
      },
      "source": [
        "data_lm.save(path_clickbait_detection + \"lm_databunch\")"
      ],
      "execution_count": 0,
      "outputs": []
    },
    {
      "cell_type": "code",
      "metadata": {
        "id": "xv4w1jA7d3JN",
        "colab_type": "code",
        "colab": {}
      },
      "source": [
        "data_lm = load_data(path_clickbait_detection, \"lm_databunch\")"
      ],
      "execution_count": 0,
      "outputs": []
    },
    {
      "cell_type": "markdown",
      "metadata": {
        "id": "bZ0TcI6neifO",
        "colab_type": "text"
      },
      "source": [
        "## Create Language Model\n",
        "We will download a pre-trained \"AWD_LSTM\" model ([Merity et al. 2017](https://arxiv.org/abs/1708.02182)) which is already trained on the big [wikitext-103 dataset](https://blog.einstein.ai/the-wikitext-long-term-dependency-language-modeling-dataset/). The \"wikitext-103\" dataset is a collection of over 100 million tokens extracted from a set of verified articles on Wikipedia. This means that this model has already \"knowledge\" / \"understanding\" of the English language. We can now use (besides our labeled dataset) also our unlabeled clickbait dataset to fine-tune the pre-trained language model. The language of Wikipedia articles may be slightly different to our language in clickbait Twitter articles, so we train and feed the AWD_LSTM model our clickbait dataset to adapt it further to the clickbait task (and the specific clickbait language)."
      ]
    },
    {
      "cell_type": "code",
      "metadata": {
        "id": "93NzhX1dd_oW",
        "colab_type": "code",
        "colab": {}
      },
      "source": [
        "learn_lm = language_model_learner(data_lm, AWD_LSTM, drop_mult=0.3)"
      ],
      "execution_count": 0,
      "outputs": []
    },
    {
      "cell_type": "markdown",
      "metadata": {
        "id": "W30z37UrIZKr",
        "colab_type": "text"
      },
      "source": [
        "**Specifictions of our AWD_LSTM language model:**"
      ]
    },
    {
      "cell_type": "code",
      "metadata": {
        "id": "12DDlR2wepy0",
        "colab_type": "code",
        "outputId": "ca386d04-6519-4ae3-a5a9-7ffc05532c0f",
        "colab": {
          "base_uri": "https://localhost:8080/",
          "height": 545
        }
      },
      "source": [
        "learn_lm.model"
      ],
      "execution_count": 0,
      "outputs": [
        {
          "output_type": "execute_result",
          "data": {
            "text/plain": [
              "SequentialRNN(\n",
              "  (0): AWD_LSTM(\n",
              "    (encoder): Embedding(19000, 400, padding_idx=1)\n",
              "    (encoder_dp): EmbeddingDropout(\n",
              "      (emb): Embedding(19000, 400, padding_idx=1)\n",
              "    )\n",
              "    (rnns): ModuleList(\n",
              "      (0): WeightDropout(\n",
              "        (module): LSTM(400, 1152, batch_first=True)\n",
              "      )\n",
              "      (1): WeightDropout(\n",
              "        (module): LSTM(1152, 1152, batch_first=True)\n",
              "      )\n",
              "      (2): WeightDropout(\n",
              "        (module): LSTM(1152, 400, batch_first=True)\n",
              "      )\n",
              "    )\n",
              "    (input_dp): RNNDropout()\n",
              "    (hidden_dps): ModuleList(\n",
              "      (0): RNNDropout()\n",
              "      (1): RNNDropout()\n",
              "      (2): RNNDropout()\n",
              "    )\n",
              "  )\n",
              "  (1): LinearDecoder(\n",
              "    (decoder): Linear(in_features=400, out_features=19000, bias=True)\n",
              "    (output_dp): RNNDropout()\n",
              "  )\n",
              ")"
            ]
          },
          "metadata": {
            "tags": []
          },
          "execution_count": 32
        }
      ]
    },
    {
      "cell_type": "markdown",
      "metadata": {
        "id": "qBc6UnrJfGBt",
        "colab_type": "text"
      },
      "source": [
        "### Fine-tune the Language Model"
      ]
    },
    {
      "cell_type": "markdown",
      "metadata": {
        "id": "r-XtXXw4Ix3Z",
        "colab_type": "text"
      },
      "source": [
        "Use fastai's [`lr_find()`](https://docs.fast.ai/basic_train.html#lr_find) method to find an optimal learning rate for training our language model."
      ]
    },
    {
      "cell_type": "code",
      "metadata": {
        "id": "hH_yQ-H1etDW",
        "colab_type": "code",
        "outputId": "e8ed80ea-fd22-42e5-bfb7-a1f19d5502aa",
        "colab": {
          "base_uri": "https://localhost:8080/",
          "height": 35
        }
      },
      "source": [
        "learn_lm.lr_find()"
      ],
      "execution_count": 0,
      "outputs": [
        {
          "output_type": "display_data",
          "data": {
            "text/html": [
              ""
            ],
            "text/plain": [
              "<IPython.core.display.HTML object>"
            ]
          },
          "metadata": {
            "tags": []
          }
        },
        {
          "output_type": "stream",
          "text": [
            "LR Finder is complete, type {learner_name}.recorder.plot() to see the graph.\n"
          ],
          "name": "stdout"
        }
      ]
    },
    {
      "cell_type": "markdown",
      "metadata": {
        "id": "TTn7Z6hfMP7w",
        "colab_type": "text"
      },
      "source": [
        "This plots different learning rates in regard to our loss. This will help us to find a good learning rate which is not too small but also not too big"
      ]
    },
    {
      "cell_type": "code",
      "metadata": {
        "id": "I0qHDuGYfJcW",
        "colab_type": "code",
        "outputId": "55ff1d31-7c9d-44fc-d0de-e72edb80481b",
        "colab": {
          "base_uri": "https://localhost:8080/",
          "height": 284
        }
      },
      "source": [
        "learn_lm.recorder.plot()"
      ],
      "execution_count": 0,
      "outputs": [
        {
          "output_type": "display_data",
          "data": {
            "image/png": "[encoded data removed]",
            "text/plain": [
              "<Figure size 432x288 with 1 Axes>"
            ]
          },
          "metadata": {
            "tags": []
          }
        }
      ]
    },
    {
      "cell_type": "markdown",
      "metadata": {
        "id": "BoiHEH8fJQGB",
        "colab_type": "text"
      },
      "source": [
        "We now train our model with Leslie Smith's [1cycle policy](https://arxiv.org/pdf/1803.09820.pdf). In short what this policy does: The learning rate (and momentum) can increase and decrease during training which makes training the model very efficient. This way, we can avoid the case when the learning rate is too small (it takes a long time before our models finds the minimum of our loss function) or when the learning rate is too big (risk of overshooting and never finding the loss minimum). [More details](https://docs.fast.ai/callbacks.one_cycle.html#What-is-1cycle?) to the 1cycle policy."
      ]
    },
    {
      "cell_type": "code",
      "metadata": {
        "id": "MTrDPY6nfbhp",
        "colab_type": "code",
        "outputId": "791cbd93-d357-4a00-d769-d8a7c8357441",
        "colab": {
          "base_uri": "https://localhost:8080/",
          "height": 78
        }
      },
      "source": [
        "learn_lm.fit_one_cycle(1, max_lr=1e-2)"
      ],
      "execution_count": 0,
      "outputs": [
        {
          "output_type": "display_data",
          "data": {
            "text/html": [
              "<table border=\"1\" class=\"dataframe\">\n",
              "  <thead>\n",
              "    <tr style=\"text-align: left;\">\n",
              "      <th>epoch</th>\n",
              "      <th>train_loss</th>\n",
              "      <th>valid_loss</th>\n",
              "      <th>accuracy</th>\n",
              "      <th>time</th>\n",
              "    </tr>\n",
              "  </thead>\n",
              "  <tbody>\n",
              "    <tr>\n",
              "      <td>0</td>\n",
              "      <td>4.296512</td>\n",
              "      <td>4.103268</td>\n",
              "      <td>0.322673</td>\n",
              "      <td>02:34</td>\n",
              "    </tr>\n",
              "  </tbody>\n",
              "</table>"
            ],
            "text/plain": [
              "<IPython.core.display.HTML object>"
            ]
          },
          "metadata": {
            "tags": []
          }
        }
      ]
    },
    {
      "cell_type": "markdown",
      "metadata": {
        "id": "rRFQUpg9QEFo",
        "colab_type": "text"
      },
      "source": [
        "Always save your models first before further training so you can still load them later again. Because once you trained your model too much (overfitting for example), there is no way back."
      ]
    },
    {
      "cell_type": "code",
      "metadata": {
        "id": "OkKTfQKZf1VY",
        "colab_type": "code",
        "colab": {}
      },
      "source": [
        "#saves the model in a \"models\" folder where the lm_databunch is located \n",
        "learn_lm.save(\"lm_1\")"
      ],
      "execution_count": 0,
      "outputs": []
    },
    {
      "cell_type": "code",
      "metadata": {
        "id": "QaYzNf24gk5A",
        "colab_type": "code",
        "colab": {}
      },
      "source": [
        "learn_lm.load(\"lm_1\");"
      ],
      "execution_count": 0,
      "outputs": []
    },
    {
      "cell_type": "markdown",
      "metadata": {
        "id": "1TEIFa_1LRDr",
        "colab_type": "text"
      },
      "source": [
        "[Unfreeze()](https://docs.fast.ai/basic_train.html#Learner.unfreeze) our model so we can train all layers of the model (previously we could only train the later layers). Let's train it for a few epochs until our accurarcy stops improving."
      ]
    },
    {
      "cell_type": "code",
      "metadata": {
        "id": "sGg08bQdgye5",
        "colab_type": "code",
        "colab": {}
      },
      "source": [
        "learn_lm.unfreeze()"
      ],
      "execution_count": 0,
      "outputs": []
    },
    {
      "cell_type": "code",
      "metadata": {
        "id": "6tSZdsbXhOAU",
        "colab_type": "code",
        "outputId": "9eafe032-ca47-4863-9ed2-32ea012f57ef",
        "colab": {
          "base_uri": "https://localhost:8080/",
          "height": 198
        }
      },
      "source": [
        "learn_lm.fit_one_cycle(5, 1e-3)"
      ],
      "execution_count": 0,
      "outputs": [
        {
          "output_type": "display_data",
          "data": {
            "text/html": [
              "<table border=\"1\" class=\"dataframe\">\n",
              "  <thead>\n",
              "    <tr style=\"text-align: left;\">\n",
              "      <th>epoch</th>\n",
              "      <th>train_loss</th>\n",
              "      <th>valid_loss</th>\n",
              "      <th>accuracy</th>\n",
              "      <th>time</th>\n",
              "    </tr>\n",
              "  </thead>\n",
              "  <tbody>\n",
              "    <tr>\n",
              "      <td>0</td>\n",
              "      <td>3.803999</td>\n",
              "      <td>3.858396</td>\n",
              "      <td>0.351019</td>\n",
              "      <td>03:11</td>\n",
              "    </tr>\n",
              "    <tr>\n",
              "      <td>1</td>\n",
              "      <td>3.640860</td>\n",
              "      <td>3.747136</td>\n",
              "      <td>0.361687</td>\n",
              "      <td>03:10</td>\n",
              "    </tr>\n",
              "    <tr>\n",
              "      <td>2</td>\n",
              "      <td>3.390923</td>\n",
              "      <td>3.687510</td>\n",
              "      <td>0.369468</td>\n",
              "      <td>03:10</td>\n",
              "    </tr>\n",
              "    <tr>\n",
              "      <td>3</td>\n",
              "      <td>3.126921</td>\n",
              "      <td>3.689662</td>\n",
              "      <td>0.371002</td>\n",
              "      <td>03:11</td>\n",
              "    </tr>\n",
              "    <tr>\n",
              "      <td>4</td>\n",
              "      <td>2.948632</td>\n",
              "      <td>3.711466</td>\n",
              "      <td>0.370819</td>\n",
              "      <td>03:10</td>\n",
              "    </tr>\n",
              "  </tbody>\n",
              "</table>"
            ],
            "text/plain": [
              "<IPython.core.display.HTML object>"
            ]
          },
          "metadata": {
            "tags": []
          }
        }
      ]
    },
    {
      "cell_type": "markdown",
      "metadata": {
        "id": "rKkal-xfuSd2",
        "colab_type": "text"
      },
      "source": [
        "One interesting note that I learnt during fastai's Deep Learning course: How many epochs should you train the model before it starts overfitting? According to fastai's Jeremy Howard, you start to overfit your model when **the accuracy/error rate is getting worse (and not when the training loss is smaller than the validation loss!)**. Here is the excerpt:\n",
        "\n",
        "\n",
        "---\n",
        "\n",
        "\n",
        "*So the only thing that tells you that you’re overfitting is that the error rate improves for a while and then starts getting worse again. You will see a lot of people, even people that claim to understand machine learning, tell you that if your training loss is lower than your validation loss, then you are overfitting. As you will learn today in more detail and during the rest of course, that is absolutely not true.*\n",
        "\n",
        "*Any model that is trained correctly will always have train loss lower than validation loss.*\n",
        "\n",
        "*That is not a sign of overfitting. That is not a sign you’ve done something wrong. That is a sign you have done something right. The sign that you’re overfitting is that your error starts getting worse, because that’s what you care about. You want your model to have a low error. So as long as you’re training and your model error is improving, you’re not overfitting.*\n",
        "\n",
        "\n",
        "---\n",
        "\n",
        "\n",
        "\n",
        "[Source](https://forums.fast.ai/t/loss-over-fit-under-fit/32257/4)"
      ]
    },
    {
      "cell_type": "code",
      "metadata": {
        "id": "jGMaeRKKhi2y",
        "colab_type": "code",
        "outputId": "94d32cfa-97f3-4379-8b0d-e19ae3532004",
        "colab": {
          "base_uri": "https://localhost:8080/",
          "height": 284
        }
      },
      "source": [
        "learn_lm.recorder.plot_losses()"
      ],
      "execution_count": 0,
      "outputs": [
        {
          "output_type": "display_data",
          "data": {
            "image/png": "[encoded data removed]",
            "text/plain": [
              "<Figure size 432x288 with 1 Axes>"
            ]
          },
          "metadata": {
            "tags": []
          }
        }
      ]
    },
    {
      "cell_type": "code",
      "metadata": {
        "id": "WsEAowvwq-cf",
        "colab_type": "code",
        "colab": {}
      },
      "source": [
        "learn_lm.save(\"lm_2\")"
      ],
      "execution_count": 0,
      "outputs": []
    },
    {
      "cell_type": "markdown",
      "metadata": {
        "id": "bMIkNsnWuayQ",
        "colab_type": "text"
      },
      "source": [
        "**Save the encoder, we will use that for our classifier later**"
      ]
    },
    {
      "cell_type": "code",
      "metadata": {
        "id": "P5VHQhKNrCmF",
        "colab_type": "code",
        "colab": {}
      },
      "source": [
        "learn_lm.save_encoder(\"lm_2_enc\")"
      ],
      "execution_count": 0,
      "outputs": []
    },
    {
      "cell_type": "code",
      "metadata": {
        "id": "Nzsgm7E1rLIQ",
        "colab_type": "code",
        "colab": {}
      },
      "source": [
        "learn_lm.load(\"lm_2\");"
      ],
      "execution_count": 0,
      "outputs": []
    },
    {
      "cell_type": "markdown",
      "metadata": {
        "id": "1WQSpE1VQX4e",
        "colab_type": "text"
      },
      "source": [
        "Let's see if our language model ca produce some sentences"
      ]
    },
    {
      "cell_type": "code",
      "metadata": {
        "id": "5EfhF6fOrRgH",
        "colab_type": "code",
        "outputId": "b2366ffa-9d3d-4f02-929b-d95a9135d730",
        "colab": {
          "base_uri": "https://localhost:8080/",
          "height": 35
        }
      },
      "source": [
        "#test what our language model predicts\n",
        "learn_lm.predict(\"Write a clickbait Twitter post:\", n_words=20)"
      ],
      "execution_count": 0,
      "outputs": [
        {
          "output_type": "execute_result",
          "data": {
            "text/plain": [
              "'Write a clickbait Twitter post: Xbox and worrying ? Department of Health calls add Hud xxbos How Putin promised'"
            ]
          },
          "metadata": {
            "tags": []
          },
          "execution_count": 54
        }
      ]
    },
    {
      "cell_type": "markdown",
      "metadata": {
        "id": "0CwZ9ZiCrWha",
        "colab_type": "text"
      },
      "source": [
        "# Classifier"
      ]
    },
    {
      "cell_type": "markdown",
      "metadata": {
        "id": "XhpjAQ068_Y8",
        "colab_type": "text"
      },
      "source": [
        "## Create TextClasDataBunch\n",
        "We are loading now a `TextClasDataBunch` for our classifier. We will only use the labeled data (`modified_labels_text.csv`). We define the vocabulary of the language model (`data_lm.vocab`) in the vocab parameter of the `TextClasDataBunch`."
      ]
    },
    {
      "cell_type": "code",
      "metadata": {
        "id": "TvmRH1ivrhRa",
        "colab_type": "code",
        "colab": {}
      },
      "source": [
        "data_clas = TextClasDataBunch.from_csv(path=path_clickbait, csv_name=\"data/modified_labels_text.csv\", vocab=data_lm.vocab, bs=64)"
      ],
      "execution_count": 0,
      "outputs": []
    },
    {
      "cell_type": "markdown",
      "metadata": {
        "id": "BRug-gvB9s9D",
        "colab_type": "text"
      },
      "source": [
        "### Save TextClasDataBunch"
      ]
    },
    {
      "cell_type": "code",
      "metadata": {
        "id": "hcHpB42or39l",
        "colab_type": "code",
        "colab": {}
      },
      "source": [
        "data_clas.save(path_clickbait_detection + \"clas_databunch\")"
      ],
      "execution_count": 0,
      "outputs": []
    },
    {
      "cell_type": "code",
      "metadata": {
        "id": "P6VQi6zysQaV",
        "colab_type": "code",
        "colab": {}
      },
      "source": [
        "data_clas = load_data(path_clickbait_detection, \"clas_databunch\", bs=64)"
      ],
      "execution_count": 0,
      "outputs": []
    },
    {
      "cell_type": "code",
      "metadata": {
        "id": "H0M8oiwysaCz",
        "colab_type": "code",
        "outputId": "d355485b-21db-4db5-d08f-b04f5e7fea6c",
        "colab": {
          "base_uri": "https://localhost:8080/",
          "height": 250
        }
      },
      "source": [
        "data_clas.show_batch()"
      ],
      "execution_count": 0,
      "outputs": [
        {
          "output_type": "display_data",
          "data": {
            "text/html": [
              "<table border=\"1\" class=\"dataframe\">\n",
              "  <thead>\n",
              "    <tr style=\"text-align: right;\">\n",
              "      <th>text</th>\n",
              "      <th>target</th>\n",
              "    </tr>\n",
              "  </thead>\n",
              "  <tbody>\n",
              "    <tr>\n",
              "      <td>xxbos 1 . xxmaj browns : ? ? \\n  2 . 49ers : ? ? \\n  3 . xxmaj bears : xxmaj jonathan xxmaj allen \\n  4 . xxmaj jaguars : xxmaj jamal xxmaj adams \\n  5 . xxmaj titans : xxmaj mike xxmaj williams \\n  6 - 32 : ( xxmaj in )</td>\n",
              "      <td>no-clickbait</td>\n",
              "    </tr>\n",
              "    <tr>\n",
              "      <td>xxbos xxmaj the latest xxmaj uber mess ? xxmaj oh , just \\n  1 . xxmaj their top brass , \\n  2 . xxmaj in a * failed cover - up * \\n  3 . xxmaj involving * escorts * \\n  xxmaj oh yes :</td>\n",
              "      <td>clickbait</td>\n",
              "    </tr>\n",
              "    <tr>\n",
              "      <td>xxbos xxmaj wooden xxmaj watch is back as we rank the leading xxup xxunk contenders : \\n \\n  1 . xxmaj josh xxmaj hart \\n  2 . xxmaj lonzo xxmaj ball \\n  3 . xxmaj frank xxmaj mason xxup iii \\n  xxmaj the rest :</td>\n",
              "      <td>no-clickbait</td>\n",
              "    </tr>\n",
              "    <tr>\n",
              "      <td>xxbos xxup right xxup now : xxmaj tune in to xxmaj fox xxmaj news xxmaj channel for an all - new ' xxmaj legends &amp; &amp; xxmaj lies : xxmaj the xxmaj patriots ' featuring ' xxmaj forgotten xxmaj heroes . '</td>\n",
              "      <td>no-clickbait</td>\n",
              "    </tr>\n",
              "    <tr>\n",
              "      <td>xxbos xxup icymi : xxmaj the xxup nfl xxup mvp race is w xxrep 4 i de open . \\n \\n  xxmaj but a certain xxmaj west xxmaj coast xxup qb is making a strong case at xxmaj no . 1 :</td>\n",
              "      <td>clickbait</td>\n",
              "    </tr>\n",
              "  </tbody>\n",
              "</table>"
            ],
            "text/plain": [
              "<IPython.core.display.HTML object>"
            ]
          },
          "metadata": {
            "tags": []
          }
        }
      ]
    },
    {
      "cell_type": "markdown",
      "metadata": {
        "id": "OvOD12Tm9W70",
        "colab_type": "text"
      },
      "source": [
        "## Create Clickbait Classifier\n",
        "\n",
        "Now we create a model that can classify Twitter posts as clickbait or no-clickbait. Load the encoder that we saved from the language model earlier."
      ]
    },
    {
      "cell_type": "code",
      "metadata": {
        "id": "Gbpo30W9sd56",
        "colab_type": "code",
        "colab": {}
      },
      "source": [
        "learn_clas = text_classifier_learner(data_clas, AWD_LSTM, drop_mult=0.3)\n",
        "learn_clas.load_encoder(\"lm_2_enc\")\n",
        "learn_clas.freeze()"
      ],
      "execution_count": 0,
      "outputs": []
    },
    {
      "cell_type": "code",
      "metadata": {
        "id": "yL7pgKjdsqb2",
        "colab_type": "code",
        "outputId": "7ab0a366-b7a2-45f0-851a-3642ba589e67",
        "colab": {
          "base_uri": "https://localhost:8080/",
          "height": 35
        }
      },
      "source": [
        "learn_clas.lr_find()"
      ],
      "execution_count": 0,
      "outputs": [
        {
          "output_type": "display_data",
          "data": {
            "text/html": [
              ""
            ],
            "text/plain": [
              "<IPython.core.display.HTML object>"
            ]
          },
          "metadata": {
            "tags": []
          }
        },
        {
          "output_type": "stream",
          "text": [
            "LR Finder is complete, type {learner_name}.recorder.plot() to see the graph.\n"
          ],
          "name": "stdout"
        }
      ]
    },
    {
      "cell_type": "code",
      "metadata": {
        "id": "q0O_WK3Zsr9o",
        "colab_type": "code",
        "outputId": "8687a5d8-92d6-4274-979d-1f8f09d68a0b",
        "colab": {
          "base_uri": "https://localhost:8080/",
          "height": 284
        }
      },
      "source": [
        "learn_clas.recorder.plot()"
      ],
      "execution_count": 0,
      "outputs": [
        {
          "output_type": "display_data",
          "data": {
            "image/png": "[encoded data removed]",
            "text/plain": [
              "<Figure size 432x288 with 1 Axes>"
            ]
          },
          "metadata": {
            "tags": []
          }
        }
      ]
    },
    {
      "cell_type": "markdown",
      "metadata": {
        "id": "WvVKUngQ-Nlo",
        "colab_type": "text"
      },
      "source": [
        "### Fine-Tune the Language Model\n",
        "\n",
        "Again train the model a bit further (with `freeze_to()` / `unfreeze()` and the 1cycle policy for a few epochs)."
      ]
    },
    {
      "cell_type": "code",
      "metadata": {
        "id": "JfVrusidtI8J",
        "colab_type": "code",
        "outputId": "8ba046d8-dfcc-4b23-da36-8ad013eb63db",
        "colab": {
          "base_uri": "https://localhost:8080/",
          "height": 78
        }
      },
      "source": [
        "learn_clas.fit_one_cycle(1, 1e-2)"
      ],
      "execution_count": 0,
      "outputs": [
        {
          "output_type": "display_data",
          "data": {
            "text/html": [
              "<table border=\"1\" class=\"dataframe\">\n",
              "  <thead>\n",
              "    <tr style=\"text-align: left;\">\n",
              "      <th>epoch</th>\n",
              "      <th>train_loss</th>\n",
              "      <th>valid_loss</th>\n",
              "      <th>accuracy</th>\n",
              "      <th>time</th>\n",
              "    </tr>\n",
              "  </thead>\n",
              "  <tbody>\n",
              "    <tr>\n",
              "      <td>0</td>\n",
              "      <td>0.450831</td>\n",
              "      <td>0.392339</td>\n",
              "      <td>0.815499</td>\n",
              "      <td>00:13</td>\n",
              "    </tr>\n",
              "  </tbody>\n",
              "</table>"
            ],
            "text/plain": [
              "<IPython.core.display.HTML object>"
            ]
          },
          "metadata": {
            "tags": []
          }
        }
      ]
    },
    {
      "cell_type": "code",
      "metadata": {
        "id": "f7etBQUFtJcr",
        "colab_type": "code",
        "colab": {}
      },
      "source": [
        "learn_clas.save(\"clas_1\")"
      ],
      "execution_count": 0,
      "outputs": []
    },
    {
      "cell_type": "code",
      "metadata": {
        "id": "rAzlhvvXtJit",
        "colab_type": "code",
        "colab": {}
      },
      "source": [
        "learn_clas.load(\"clas_1\");"
      ],
      "execution_count": 0,
      "outputs": []
    },
    {
      "cell_type": "code",
      "metadata": {
        "id": "FJtT1T3vtJsV",
        "colab_type": "code",
        "colab": {}
      },
      "source": [
        "learn_clas.freeze_to(-2)"
      ],
      "execution_count": 0,
      "outputs": []
    },
    {
      "cell_type": "code",
      "metadata": {
        "id": "mRX1zjDatJpL",
        "colab_type": "code",
        "outputId": "a8d1891d-600b-4d3d-bfd7-7403c970efe4",
        "colab": {
          "base_uri": "https://localhost:8080/",
          "height": 78
        }
      },
      "source": [
        "learn_clas.fit_one_cycle(1, 5e-3)"
      ],
      "execution_count": 0,
      "outputs": [
        {
          "output_type": "display_data",
          "data": {
            "text/html": [
              "<table border=\"1\" class=\"dataframe\">\n",
              "  <thead>\n",
              "    <tr style=\"text-align: left;\">\n",
              "      <th>epoch</th>\n",
              "      <th>train_loss</th>\n",
              "      <th>valid_loss</th>\n",
              "      <th>accuracy</th>\n",
              "      <th>time</th>\n",
              "    </tr>\n",
              "  </thead>\n",
              "  <tbody>\n",
              "    <tr>\n",
              "      <td>0</td>\n",
              "      <td>0.364886</td>\n",
              "      <td>0.358481</td>\n",
              "      <td>0.840647</td>\n",
              "      <td>00:17</td>\n",
              "    </tr>\n",
              "  </tbody>\n",
              "</table>"
            ],
            "text/plain": [
              "<IPython.core.display.HTML object>"
            ]
          },
          "metadata": {
            "tags": []
          }
        }
      ]
    },
    {
      "cell_type": "code",
      "metadata": {
        "id": "dghzh4qVtJmq",
        "colab_type": "code",
        "colab": {}
      },
      "source": [
        "learn_clas.save(\"clas_2\")"
      ],
      "execution_count": 0,
      "outputs": []
    },
    {
      "cell_type": "code",
      "metadata": {
        "id": "NYon_m--wn5J",
        "colab_type": "code",
        "colab": {}
      },
      "source": [
        "learn_clas.load(\"clas_2\");"
      ],
      "execution_count": 0,
      "outputs": []
    },
    {
      "cell_type": "code",
      "metadata": {
        "id": "bXRTm_tOwsxh",
        "colab_type": "code",
        "outputId": "0c35d8de-bbc4-4706-ebfd-ec2f7084c271",
        "colab": {
          "base_uri": "https://localhost:8080/",
          "height": 78
        }
      },
      "source": [
        "learn_clas.freeze_to(-3)\n",
        "learn_clas.fit_one_cycle(1, 1e-3)"
      ],
      "execution_count": 0,
      "outputs": [
        {
          "output_type": "display_data",
          "data": {
            "text/html": [
              "<table border=\"1\" class=\"dataframe\">\n",
              "  <thead>\n",
              "    <tr style=\"text-align: left;\">\n",
              "      <th>epoch</th>\n",
              "      <th>train_loss</th>\n",
              "      <th>valid_loss</th>\n",
              "      <th>accuracy</th>\n",
              "      <th>time</th>\n",
              "    </tr>\n",
              "  </thead>\n",
              "  <tbody>\n",
              "    <tr>\n",
              "      <td>0</td>\n",
              "      <td>0.347342</td>\n",
              "      <td>0.357151</td>\n",
              "      <td>0.845522</td>\n",
              "      <td>00:28</td>\n",
              "    </tr>\n",
              "  </tbody>\n",
              "</table>"
            ],
            "text/plain": [
              "<IPython.core.display.HTML object>"
            ]
          },
          "metadata": {
            "tags": []
          }
        }
      ]
    },
    {
      "cell_type": "code",
      "metadata": {
        "id": "YVqLIDkIw0A3",
        "colab_type": "code",
        "colab": {}
      },
      "source": [
        "learn_clas.save(\"clas_3\")"
      ],
      "execution_count": 0,
      "outputs": []
    },
    {
      "cell_type": "code",
      "metadata": {
        "id": "AI3CdElVxAw3",
        "colab_type": "code",
        "colab": {}
      },
      "source": [
        "learn_clas.load(\"clas_3\");"
      ],
      "execution_count": 0,
      "outputs": []
    },
    {
      "cell_type": "code",
      "metadata": {
        "id": "ettMJb69xQJu",
        "colab_type": "code",
        "outputId": "d3f3a12d-a50d-4549-8195-828b4c737f78",
        "colab": {
          "base_uri": "https://localhost:8080/",
          "height": 138
        }
      },
      "source": [
        "learn_clas.unfreeze()\n",
        "learn_clas.fit_one_cycle(3, 5e-4)"
      ],
      "execution_count": 0,
      "outputs": [
        {
          "output_type": "display_data",
          "data": {
            "text/html": [
              "<table border=\"1\" class=\"dataframe\">\n",
              "  <thead>\n",
              "    <tr style=\"text-align: left;\">\n",
              "      <th>epoch</th>\n",
              "      <th>train_loss</th>\n",
              "      <th>valid_loss</th>\n",
              "      <th>accuracy</th>\n",
              "      <th>time</th>\n",
              "    </tr>\n",
              "  </thead>\n",
              "  <tbody>\n",
              "    <tr>\n",
              "      <td>0</td>\n",
              "      <td>0.282473</td>\n",
              "      <td>0.371435</td>\n",
              "      <td>0.846805</td>\n",
              "      <td>00:37</td>\n",
              "    </tr>\n",
              "    <tr>\n",
              "      <td>1</td>\n",
              "      <td>0.221737</td>\n",
              "      <td>0.408474</td>\n",
              "      <td>0.843983</td>\n",
              "      <td>00:35</td>\n",
              "    </tr>\n",
              "    <tr>\n",
              "      <td>2</td>\n",
              "      <td>0.119525</td>\n",
              "      <td>0.453525</td>\n",
              "      <td>0.843726</td>\n",
              "      <td>00:36</td>\n",
              "    </tr>\n",
              "  </tbody>\n",
              "</table>"
            ],
            "text/plain": [
              "<IPython.core.display.HTML object>"
            ]
          },
          "metadata": {
            "tags": []
          }
        }
      ]
    },
    {
      "cell_type": "markdown",
      "metadata": {
        "id": "uoGoTN2SzTOy",
        "colab_type": "text"
      },
      "source": [
        "Accuracy us going down with unfreeze() and further training, so let's load \"clas_3\" model again and just train one more epoch. "
      ]
    },
    {
      "cell_type": "code",
      "metadata": {
        "id": "dhnnARkKzR59",
        "colab_type": "code",
        "colab": {}
      },
      "source": [
        "learn_clas.load(\"clas_3\");"
      ],
      "execution_count": 0,
      "outputs": []
    },
    {
      "cell_type": "code",
      "metadata": {
        "id": "pYoDdSp4ziST",
        "colab_type": "code",
        "outputId": "2c7ee4af-dbcb-48e1-94ac-ea5e4f5c2bbf",
        "colab": {
          "base_uri": "https://localhost:8080/",
          "height": 78
        }
      },
      "source": [
        "learn_clas.unfreeze()\n",
        "learn_clas.fit_one_cycle(1, 5e-4)"
      ],
      "execution_count": 0,
      "outputs": [
        {
          "output_type": "display_data",
          "data": {
            "text/html": [
              "<table border=\"1\" class=\"dataframe\">\n",
              "  <thead>\n",
              "    <tr style=\"text-align: left;\">\n",
              "      <th>epoch</th>\n",
              "      <th>train_loss</th>\n",
              "      <th>valid_loss</th>\n",
              "      <th>accuracy</th>\n",
              "      <th>time</th>\n",
              "    </tr>\n",
              "  </thead>\n",
              "  <tbody>\n",
              "    <tr>\n",
              "      <td>0</td>\n",
              "      <td>0.282856</td>\n",
              "      <td>0.362761</td>\n",
              "      <td>0.845266</td>\n",
              "      <td>00:36</td>\n",
              "    </tr>\n",
              "  </tbody>\n",
              "</table>"
            ],
            "text/plain": [
              "<IPython.core.display.HTML object>"
            ]
          },
          "metadata": {
            "tags": []
          }
        }
      ]
    },
    {
      "cell_type": "code",
      "metadata": {
        "id": "-rL42Djt386U",
        "colab_type": "code",
        "colab": {}
      },
      "source": [
        "learn_clas.save(\"clas_4\")"
      ],
      "execution_count": 0,
      "outputs": []
    },
    {
      "cell_type": "markdown",
      "metadata": {
        "id": "cXKjCCCc1LsB",
        "colab_type": "text"
      },
      "source": [
        "**The current state of the art models have a accuracy of 0.855 (as of August 2019), so we are very close and within one percent with our model that was only trained in less than an hour! This is the power of Transfer Learning in NLP!**\n",
        "https://www.clickbait-challenge.org/"
      ]
    },
    {
      "cell_type": "markdown",
      "metadata": {
        "id": "IoYVgVSQxXap",
        "colab_type": "text"
      },
      "source": [
        "# Metrics"
      ]
    },
    {
      "cell_type": "code",
      "metadata": {
        "id": "gdjhiZC3xZm5",
        "colab_type": "code",
        "colab": {}
      },
      "source": [
        "preds, y, losses = learn_clas.get_preds(with_loss=True)\n",
        "interp = ClassificationInterpretation(learn_clas, preds, y, losses)"
      ],
      "execution_count": 0,
      "outputs": []
    },
    {
      "cell_type": "markdown",
      "metadata": {
        "id": "B5s5LIS20raW",
        "colab_type": "text"
      },
      "source": [
        "## Confusion Matrix"
      ]
    },
    {
      "cell_type": "code",
      "metadata": {
        "id": "M4HslFYy0tPz",
        "colab_type": "code",
        "outputId": "de812ccb-514d-4d6b-e739-3180b65b3077",
        "colab": {
          "base_uri": "https://localhost:8080/",
          "height": 311
        }
      },
      "source": [
        "interp.plot_confusion_matrix()"
      ],
      "execution_count": 0,
      "outputs": [
        {
          "output_type": "display_data",
          "data": {
            "image/png": "[encoded data removed]",
            "text/plain": [
              "<Figure size 432x288 with 1 Axes>"
            ]
          },
          "metadata": {
            "tags": []
          }
        }
      ]
    },
    {
      "cell_type": "markdown",
      "metadata": {
        "id": "ILip-4Ov84WR",
        "colab_type": "text"
      },
      "source": [
        "## Precision, Recall, F1"
      ]
    },
    {
      "cell_type": "code",
      "metadata": {
        "id": "OunVr7f06WON",
        "colab_type": "code",
        "colab": {}
      },
      "source": [
        "TP = 606\n",
        "TN = 2688\n",
        "FP = 239\n",
        "FN = 364"
      ],
      "execution_count": 0,
      "outputs": []
    },
    {
      "cell_type": "code",
      "metadata": {
        "id": "pU-sLKZ17PH3",
        "colab_type": "code",
        "outputId": "24d2fca4-e5c8-4cda-fdf6-74a1008e5b13",
        "colab": {
          "base_uri": "https://localhost:8080/",
          "height": 35
        }
      },
      "source": [
        "precision = TP/(TP+FP)\n",
        "recall = TP/(TP+FN)\n",
        "F1 = 2*((precision*recall)/(precision+recall))\n",
        "\n",
        "precision, recall, F1"
      ],
      "execution_count": 0,
      "outputs": [
        {
          "output_type": "execute_result",
          "data": {
            "text/plain": [
              "(0.7171597633136094, 0.6247422680412371, 0.6677685950413224)"
            ]
          },
          "metadata": {
            "tags": []
          },
          "execution_count": 104
        }
      ]
    },
    {
      "cell_type": "markdown",
      "metadata": {
        "id": "H3d_xXujxl9p",
        "colab_type": "text"
      },
      "source": [
        "## Accurary and Error Rate"
      ]
    },
    {
      "cell_type": "code",
      "metadata": {
        "id": "eg05wAsmxoz_",
        "colab_type": "code",
        "outputId": "f3f4a2cc-542b-4457-97ad-89ab53690254",
        "colab": {
          "base_uri": "https://localhost:8080/",
          "height": 35
        }
      },
      "source": [
        "accuracy(preds, y), error_rate(preds, y)"
      ],
      "execution_count": 0,
      "outputs": [
        {
          "output_type": "execute_result",
          "data": {
            "text/plain": [
              "(tensor(0.8453), tensor(0.1547))"
            ]
          },
          "metadata": {
            "tags": []
          },
          "execution_count": 105
        }
      ]
    },
    {
      "cell_type": "markdown",
      "metadata": {
        "id": "Ztu83QEj1mr7",
        "colab_type": "text"
      },
      "source": [
        "# Clickbait Detection Tests\n",
        "\n",
        "Let's see if our model can accurately detect clickbait posts or not (I took some examples from the unlabeled dataset)."
      ]
    },
    {
      "cell_type": "code",
      "metadata": {
        "id": "em8orTte08T3",
        "colab_type": "code",
        "outputId": "bd010f9d-0547-46ad-b829-38b8239ef5ff",
        "colab": {
          "base_uri": "https://localhost:8080/",
          "height": 35
        }
      },
      "source": [
        "learn_clas.predict(\"Are high-end, big-budget films the future of fashion advertising?\")"
      ],
      "execution_count": 0,
      "outputs": [
        {
          "output_type": "execute_result",
          "data": {
            "text/plain": [
              "(Category no-clickbait, tensor(1), tensor([0.4308, 0.5692]))"
            ]
          },
          "metadata": {
            "tags": []
          },
          "execution_count": 106
        }
      ]
    },
    {
      "cell_type": "code",
      "metadata": {
        "id": "T6iyysg61yxK",
        "colab_type": "code",
        "outputId": "c0254303-071a-4db9-ae33-12571c7356b2",
        "colab": {
          "base_uri": "https://localhost:8080/",
          "height": 35
        }
      },
      "source": [
        "learn_clas.predict(\"Can You Guess The Disney Movie By The Shoes?\")"
      ],
      "execution_count": 0,
      "outputs": [
        {
          "output_type": "execute_result",
          "data": {
            "text/plain": [
              "(Category clickbait, tensor(0), tensor([0.9654, 0.0346]))"
            ]
          },
          "metadata": {
            "tags": []
          },
          "execution_count": 107
        }
      ]
    },
    {
      "cell_type": "code",
      "metadata": {
        "id": "cIiBm57g2Lb1",
        "colab_type": "code",
        "outputId": "922da00b-f6a7-4f57-aefb-661348fcac22",
        "colab": {
          "base_uri": "https://localhost:8080/",
          "height": 35
        }
      },
      "source": [
        "learn_clas.predict(\"17 sibling horror stories guaranteed to shock you\")"
      ],
      "execution_count": 0,
      "outputs": [
        {
          "output_type": "execute_result",
          "data": {
            "text/plain": [
              "(Category clickbait, tensor(0), tensor([0.9906, 0.0094]))"
            ]
          },
          "metadata": {
            "tags": []
          },
          "execution_count": 108
        }
      ]
    },
    {
      "cell_type": "code",
      "metadata": {
        "id": "R2qhC-A02Yy3",
        "colab_type": "code",
        "outputId": "5ec293f7-719d-4d13-c89a-8da70e0f16eb",
        "colab": {
          "base_uri": "https://localhost:8080/",
          "height": 35
        }
      },
      "source": [
        "learn_clas.predict(\"Donald Trump and his wife, Melania, are scheduled to arrive at the White House around 11 a.m. today\")"
      ],
      "execution_count": 0,
      "outputs": [
        {
          "output_type": "execute_result",
          "data": {
            "text/plain": [
              "(Category no-clickbait, tensor(1), tensor([0.0186, 0.9814]))"
            ]
          },
          "metadata": {
            "tags": []
          },
          "execution_count": 109
        }
      ]
    },
    {
      "cell_type": "code",
      "metadata": {
        "id": "bW21gVfo2lQF",
        "colab_type": "code",
        "outputId": "b4508f4d-6923-473b-d261-2b037ba8f0ed",
        "colab": {
          "base_uri": "https://localhost:8080/",
          "height": 35
        }
      },
      "source": [
        "learn_clas.predict(\"America's pensions, endowments and foundations are souring on hedge funds\")"
      ],
      "execution_count": 0,
      "outputs": [
        {
          "output_type": "execute_result",
          "data": {
            "text/plain": [
              "(Category no-clickbait, tensor(1), tensor([0.0491, 0.9509]))"
            ]
          },
          "metadata": {
            "tags": []
          },
          "execution_count": 110
        }
      ]
    },
    {
      "cell_type": "code",
      "metadata": {
        "id": "-X5wGTQh23vT",
        "colab_type": "code",
        "outputId": "36974026-c85e-4929-c0f7-029bc8f3f53e",
        "colab": {
          "base_uri": "https://localhost:8080/",
          "height": 35
        }
      },
      "source": [
        "learn_clas.predict(\"BREAKING: Republican hold: Ron Johnson re-elected to Senate in Wisconsin  #CNNElection\")"
      ],
      "execution_count": 0,
      "outputs": [
        {
          "output_type": "execute_result",
          "data": {
            "text/plain": [
              "(Category no-clickbait, tensor(1), tensor([0.0093, 0.9907]))"
            ]
          },
          "metadata": {
            "tags": []
          },
          "execution_count": 111
        }
      ]
    },
    {
      "cell_type": "code",
      "metadata": {
        "id": "hd8hxNxg3NW4",
        "colab_type": "code",
        "outputId": "8f52f7e1-7953-4c37-e89e-58d1c7b57bb1",
        "colab": {
          "base_uri": "https://localhost:8080/",
          "height": 35
        }
      },
      "source": [
        "learn_clas.predict(\"Check that out!!! 😱😱😱😱😱😱😱😱😱😱😱😱😱😱\")"
      ],
      "execution_count": 0,
      "outputs": [
        {
          "output_type": "execute_result",
          "data": {
            "text/plain": [
              "(Category clickbait, tensor(0), tensor([0.9128, 0.0872]))"
            ]
          },
          "metadata": {
            "tags": []
          },
          "execution_count": 112
        }
      ]
    },
    {
      "cell_type": "code",
      "metadata": {
        "id": "eKFZpbFa3TLa",
        "colab_type": "code",
        "outputId": "d810945e-60ac-4230-a0de-58bea39dc6b2",
        "colab": {
          "base_uri": "https://localhost:8080/",
          "height": 35
        }
      },
      "source": [
        "learn_clas.predict(\"12 Reasons Why You Are Still Single\")"
      ],
      "execution_count": 0,
      "outputs": [
        {
          "output_type": "execute_result",
          "data": {
            "text/plain": [
              "(Category clickbait, tensor(0), tensor([0.9943, 0.0057]))"
            ]
          },
          "metadata": {
            "tags": []
          },
          "execution_count": 113
        }
      ]
    },
    {
      "cell_type": "markdown",
      "metadata": {
        "id": "6F4HGuiDEtTM",
        "colab_type": "text"
      },
      "source": [
        "**Results:**\n",
        "We observe that our classifier can detect clickbait or no-clickbait posts with high confidence (probability over 0.9). And in the case were the classification is abit ambigious (**\"Are high-end, big-budget films the future of fashion advertising?\"**) it outputs a balanced probability (`tensor([0.4308, 0.5692]))`"
      ]
    }
  ]
}